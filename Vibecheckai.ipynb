{
 "cells": [
  {
   "cell_type": "markdown",
   "id": "824caee7",
   "metadata": {},
   "source": [
    "# VibeCheck AI: Emotion Detection from Speech\n",
    "\n",
    "---  \n",
    "\n",
    "##  Objective\n",
    "We aim to build a deep learning system that classifies speech audio into **five emotions** — `happy`, `sad`, `angry`, `neutral`, and `excited` (if available in dataset) using the RAVDESS dataset. This notebook will cover audio preprocessing, feature extraction, data augmentation, model training (CNN, RNN, hybrid), and evaluation.\n"
   ]
  },
  {
   "cell_type": "markdown",
   "id": "14a35987",
   "metadata": {},
   "source": [
    "## -- 1. Setup & Imports --\n",
    "* Install necessary libraries if required with `!pip xyz -q`"
   ]
  },
  {
   "cell_type": "code",
   "execution_count": 31,
   "id": "287ccceb",
   "metadata": {},
   "outputs": [],
   "source": [
    "# Import modules\n",
    "import os\n",
    "import numpy as np\n",
    "import pandas as pd\n",
    "import librosa\n",
    "import librosa.display\n",
    "import matplotlib.pyplot as plt\n",
    "import seaborn as sns\n",
    "from sklearn.model_selection import train_test_split\n",
    "from sklearn.preprocessing import LabelEncoder, StandardScaler\n",
    "from sklearn.metrics import classification_report, confusion_matrix\n",
    "import torch\n",
    "import torch.nn as nn\n",
    "import torch.nn.functional as F\n",
    "from torch.utils.data import Dataset, DataLoader\n",
    "from audiomentations import Compose, TimeStretch, PitchShift, Shift\n",
    "import warnings\n",
    "from pathlib import Path\n",
    "import shutil\n",
    "from tqdm import tqdm\n",
    "import optuna\n",
    "warnings.filterwarnings(\"ignore\")"
   ]
  },
  {
   "cell_type": "markdown",
   "id": "48af918a",
   "metadata": {},
   "source": [
    "## -- 2. Data Preparation (RAVDESS Subset Extractor) --\n",
    "* Assumes RAVDESS audio data is extracted locally."
   ]
  },
  {
   "cell_type": "code",
   "execution_count": 5,
   "id": "3fb0db3c",
   "metadata": {},
   "outputs": [],
   "source": [
    "emotion_map = {\n",
    "    \"01\": \"neutral\",\n",
    "    \"03\": \"happy\",\n",
    "    \"04\": \"sad\",\n",
    "    \"05\": \"angry\",\n",
    "    \"08\": \"excited\"  # excited mapped from 'surprised' if present\n",
    "}"
   ]
  },
  {
   "cell_type": "code",
   "execution_count": 12,
   "id": "f36aa379",
   "metadata": {},
   "outputs": [],
   "source": [
    "ravdess_root = \"data/Audio_Speech_Actors_01-24\"\n",
    "output_dir = \"data/filtered_ravdess\"\n",
    "os.makedirs(output_dir, exist_ok=True)\n",
    "\n",
    "for actor_dir in Path(ravdess_root).rglob(\"*.wav\"):\n",
    "    parts = actor_dir.name.split(\"-\")\n",
    "    emotion_id = parts[2]\n",
    "    if emotion_id in emotion_map:\n",
    "        label = emotion_map[emotion_id]\n",
    "        dest_dir = os.path.join(output_dir, label)\n",
    "        os.makedirs(dest_dir, exist_ok=True)\n",
    "        shutil.copy(actor_dir, os.path.join(dest_dir, actor_dir.name))\n"
   ]
  },
  {
   "cell_type": "markdown",
   "id": "73624983",
   "metadata": {},
   "source": [
    "---\n",
    "\n",
    "## -- 3. Audio Feature Extraction --\n",
    "* #### Extract MFCCs, Mel Spectrogram, Chroma, ZCR. Apply fixed-length padding/truncation.\n"
   ]
  },
  {
   "cell_type": "code",
   "execution_count": 13,
   "id": "84173f33",
   "metadata": {},
   "outputs": [],
   "source": [
    "SAMPLE_RATE = 16000\n",
    "DURATION = 3  # 3 seconds\n",
    "SAMPLES_PER_TRACK = SAMPLE_RATE * DURATION\n",
    "\n",
    "\n",
    "def extract_features(file_path):\n",
    "    y, sr = librosa.load(file_path, sr=SAMPLE_RATE, mono=True)\n",
    "    y = librosa.util.fix_length(data=y, size=SAMPLES_PER_TRACK)\n",
    "    mfcc = librosa.feature.mfcc(y=y, sr=sr, n_mfcc=40)\n",
    "    mel = librosa.feature.melspectrogram(y=y, sr=sr, n_mels=40)\n",
    "    chroma = librosa.feature.chroma_stft(y=y, sr=sr)\n",
    "    zcr = librosa.feature.zero_crossing_rate(y)\n",
    "    features = np.vstack([mfcc, mel, chroma, zcr])\n",
    "    return features"
   ]
  },
  {
   "cell_type": "markdown",
   "id": "15261bfd",
   "metadata": {},
   "source": [
    "---\n",
    "\n",
    "## 4. Dataset Construction\n",
    "# Load, label encode, normalize, and structure audio features."
   ]
  },
  {
   "cell_type": "code",
   "execution_count": 14,
   "id": "e2787064",
   "metadata": {},
   "outputs": [],
   "source": [
    "def get_data_from_dir(root_dir):\n",
    "    data, labels = [], []\n",
    "    for label in os.listdir(root_dir):\n",
    "        for file in os.listdir(os.path.join(root_dir, label)):\n",
    "            fpath = os.path.join(root_dir, label, file)\n",
    "            features = extract_features(fpath)\n",
    "            data.append(features)\n",
    "            labels.append(label)\n",
    "    return np.array(data), np.array(labels)\n",
    "\n",
    "X, y = get_data_from_dir(output_dir)\n",
    "X = X.transpose(0, 2, 1)  # (samples, time, features)\n",
    "le = LabelEncoder()\n",
    "y_encoded = le.fit_transform(y)\n",
    "scaler = StandardScaler()\n",
    "X = np.array([scaler.fit_transform(x) for x in X])"
   ]
  },
  {
   "cell_type": "markdown",
   "id": "6363518a",
   "metadata": {},
   "source": [
    "---\n",
    "\n",
    "## 5. Data Augmentation\n",
    "# TimeStretch, PitchShift, and Shift are applied randomly to improve model robustness."
   ]
  },
  {
   "cell_type": "code",
   "execution_count": 15,
   "id": "688699b9",
   "metadata": {},
   "outputs": [],
   "source": [
    "from audiomentations import Compose, TimeStretch, PitchShift, Shift\n",
    "\n",
    "augment = Compose([\n",
    "    TimeStretch(min_rate=0.9, max_rate=1.1, p=0.5),\n",
    "    PitchShift(min_semitones=-2, max_semitones=2, p=0.5),\n",
    "    Shift(min_shift=-0.2, max_shift=0.2, p=0.5)\n",
    "])\n",
    "# Applied only during training (in DataLoader or collate_fn)"
   ]
  },
  {
   "cell_type": "markdown",
   "id": "2094e35c",
   "metadata": {},
   "source": [
    "---\n",
    "\n",
    "## 6. PyTorch Dataset"
   ]
  },
  {
   "cell_type": "code",
   "execution_count": 16,
   "id": "b2b4a480",
   "metadata": {},
   "outputs": [],
   "source": [
    "class EmotionDataset(Dataset):\n",
    "    def __init__(self, X, y):\n",
    "        self.X = torch.tensor(X, dtype=torch.float32)\n",
    "        self.y = torch.tensor(y, dtype=torch.long)\n",
    "\n",
    "    def __len__(self):\n",
    "        return len(self.X)\n",
    "\n",
    "    def __getitem__(self, idx):\n",
    "        return self.X[idx], self.y[idx]\n"
   ]
  },
  {
   "cell_type": "markdown",
   "id": "0d1dde37",
   "metadata": {},
   "source": [
    "---\n",
    "\n",
    "## 7. Model Architectures\n"
   ]
  },
  {
   "cell_type": "code",
   "execution_count": 39,
   "id": "5b3cdb60",
   "metadata": {},
   "outputs": [],
   "source": [
    "# CNN Classifier\n",
    "#Designed to extract spatial features from spectrograms.\n",
    "class CNNEmotion(nn.Module):\n",
    "    def __init__(self, num_classes, dropout_rate=0.1):\n",
    "        super().__init__()\n",
    "        self.conv1 = nn.Conv2d(1, 32, kernel_size=(3, 3), padding=1)\n",
    "        self.pool = nn.MaxPool2d(2)\n",
    "        self.fc1 = nn.Linear(32 * 47 * 46, 128) # This will be corrected in forward\n",
    "        self.dropout = nn.Dropout(dropout_rate)\n",
    "        self.out = nn.Linear(128, num_classes)\n",
    "        self._to_linear = None # Placeholder for the calculated flattened size\n",
    "\n",
    "    def forward(self, x):\n",
    "        # Check if the input is 3D (no channel dimension)\n",
    "        if len(x.shape) == 3:\n",
    "            x = x.unsqueeze(1)  # Add the channel dimension\n",
    "\n",
    "        # Now x should be 4D: [B, C, T, F]\n",
    "        x = F.relu(self.conv1(x))\n",
    "        x = self.pool(x)\n",
    "\n",
    "        # Dynamically calculate the size of the flattened output\n",
    "        if self._to_linear is None:\n",
    "            self._to_linear = x.view(x.size(0), -1).shape[1]\n",
    "\n",
    "        x = x.view(x.size(0), -1) # Flatten for the fully connected layer\n",
    "        x = F.relu(self.fc1(x))\n",
    "        x = self.out(x)\n",
    "        return x\n",
    "    \n",
    "# CNN Classifier\n",
    "# class CNNEmotion(nn.Module):\n",
    "#     def __init__(self, num_classes, dropout_rate=0.3):\n",
    "#         super().__init__()\n",
    "#         self.conv1 = nn.Conv2d(1, 32, kernel_size=(3, 3), padding=1)\n",
    "#         self.conv2 = nn.Conv2d(32, 64, kernel_size=(3, 3), padding=1)\n",
    "#         self.pool = nn.MaxPool2d(2)\n",
    "#         self.dropout = nn.Dropout(dropout_rate)\n",
    "#         self.batch_norm1 = nn.BatchNorm2d(32)\n",
    "#         self.batch_norm2 = nn.BatchNorm2d(64)\n",
    "#         self._to_linear = None\n",
    "#         # The actual size will be calculated in forward pass\n",
    "#         self.fc1 = nn.Linear(1, 128)  # Placeholder, will be updated in forward pass\n",
    "#         self.out = nn.Linear(128, num_classes)\n",
    "\n",
    "#     def forward(self, x):\n",
    "#         # Check if the input is 3D (no channel dimension)\n",
    "#         if len(x.shape) == 3:\n",
    "#             x = x.unsqueeze(1)  # Add the channel dimension\n",
    "        \n",
    "#         # Now x should be 4D: [B, C, T, F]\n",
    "#         x = self.pool(F.relu(self.batch_norm1(self.conv1(x))))\n",
    "#         x = self.pool(F.relu(self.batch_norm2(self.conv2(x))))\n",
    "        \n",
    "#         # Dynamically calculate the size of the flattened output on first run\n",
    "#         if self._to_linear is None:\n",
    "#             self._to_linear = x.view(x.size(0), -1).shape[1]\n",
    "#             # Update fc1 input size\n",
    "#             self.fc1 = nn.Linear(self._to_linear, 128).to(x.device)\n",
    "        \n",
    "#         x = x.view(x.size(0), -1)  # Flatten\n",
    "#         x = self.dropout(F.relu(self.fc1(x)))\n",
    "#         x = self.out(x)\n",
    "#         return x"
   ]
  },
  {
   "cell_type": "code",
   "execution_count": 25,
   "id": "f30ba53b",
   "metadata": {},
   "outputs": [],
   "source": [
    "### LSTM Model\n",
    "# Ideal for learning temporal patterns in MFCC sequences.\n",
    "# class LSTMEmotion(nn.Module):\n",
    "#     def __init__(self, input_size, hidden_size, num_layers, num_classes):\n",
    "#         super().__init__()\n",
    "#         self.lstm = nn.LSTM(input_size, hidden_size, num_layers, batch_first=True)\n",
    "#         self.fc = nn.Linear(hidden_size, num_classes)\n",
    "\n",
    "#     def forward(self, x):\n",
    "#         out, _ = self.lstm(x)\n",
    "#         return self.fc(out[:, -1, :])\n",
    "\n",
    "class LSTMEmotion(nn.Module):\n",
    "    def __init__(self, input_size, hidden_size, num_layers, num_classes, dropout_rate=0.3):\n",
    "        super().__init__()\n",
    "        self.lstm = nn.LSTM(\n",
    "            input_size, \n",
    "            hidden_size, \n",
    "            num_layers, \n",
    "            batch_first=True, \n",
    "            dropout=dropout_rate if num_layers > 1 else 0,\n",
    "            bidirectional=True\n",
    "        )\n",
    "        # Multiply by 2 for bidirectional\n",
    "        self.dropout = nn.Dropout(dropout_rate)\n",
    "        self.fc = nn.Linear(hidden_size * 2, num_classes)\n",
    "\n",
    "    def forward(self, x):\n",
    "        # Make sure input is 3D: [batch, seq, features]\n",
    "        if len(x.shape) == 4:  # If input is spectrogram [B, C, T, F]\n",
    "            batch_size, channels, time_steps, features = x.shape\n",
    "            x = x.view(batch_size, time_steps, channels * features)\n",
    "        \n",
    "        out, _ = self.lstm(x)\n",
    "        # Take the output from the last time step\n",
    "        out = self.dropout(out[:, -1, :])\n",
    "        out = self.fc(out)\n",
    "        return out"
   ]
  },
  {
   "cell_type": "code",
   "execution_count": 43,
   "id": "4cc73246",
   "metadata": {},
   "outputs": [],
   "source": [
    "# Model 3: Transformer-based model\n",
    "class TransformerEmotion(nn.Module):\n",
    "    def __init__(self, input_size, num_classes, d_model=128, nhead=8, num_encoder_layers=4, \n",
    "                 dim_feedforward=512, dropout=0.3):\n",
    "        super().__init__()\n",
    "        \n",
    "        self.input_size = input_size\n",
    "        self.d_model = d_model\n",
    "        \n",
    "        # Project input features to d_model dimensions\n",
    "        self.input_projection = nn.Linear(input_size, d_model)\n",
    "        \n",
    "        # Positional encoding - learnable\n",
    "        self.pos_encoder = nn.Parameter(torch.zeros(1000, d_model))  # Max sequence length: 1000\n",
    "        \n",
    "        # Transformer encoder\n",
    "        encoder_layers = nn.TransformerEncoderLayer(\n",
    "            d_model=d_model,\n",
    "            nhead=nhead,\n",
    "            dim_feedforward=dim_feedforward,\n",
    "            dropout=dropout,\n",
    "            batch_first=True\n",
    "        )\n",
    "        self.transformer_encoder = nn.TransformerEncoder(encoder_layers, num_encoder_layers)\n",
    "        \n",
    "        # Output layer\n",
    "        self.classifier = nn.Sequential(\n",
    "            nn.Linear(d_model, 256),\n",
    "            nn.ReLU(),\n",
    "            nn.Dropout(dropout),\n",
    "            nn.Linear(256, num_classes)\n",
    "        )\n",
    "        \n",
    "    def forward(self, x):\n",
    "        # Handle input dimensionality\n",
    "        if len(x.shape) == 4:  # If input is spectrogram [B, C, T, F]\n",
    "            batch_size, channels, time_steps, features = x.shape\n",
    "            x = x.view(batch_size, time_steps, channels * features)\n",
    "        \n",
    "        # Project input to d_model dimensions\n",
    "        x = self.input_projection(x)  \n",
    "        \n",
    "        # Add positional encoding (take only what we need)\n",
    "        seq_len = x.size(1)\n",
    "        x = x + self.pos_encoder[:seq_len, :].unsqueeze(0)\n",
    "        \n",
    "        # Apply transformer encoder\n",
    "        x = self.transformer_encoder(x)\n",
    "        \n",
    "        # Global average pooling over sequence length dimension\n",
    "        x = torch.mean(x, dim=1)\n",
    "        \n",
    "        # Classification\n",
    "        output = self.classifier(x)\n",
    "        \n",
    "        return output"
   ]
  },
  {
   "cell_type": "code",
   "execution_count": 54,
   "id": "ff55f9d3",
   "metadata": {},
   "outputs": [],
   "source": [
    "class ResidualBlock(nn.Module):\n",
    "    \"\"\"\n",
    "    A single residual block for the ResNet.\n",
    "    Args:\n",
    "        in_channels (int): Number of input channels.\n",
    "        out_channels (int): Number of output channels.\n",
    "        stride (int): Stride for the first convolution layer. Default is 1.\n",
    "        dropout_rate (float): Dropout rate for the Dropout2d layer within the block.\n",
    "    \"\"\"\n",
    "    def __init__(self, in_channels, out_channels, stride=1, dropout_rate=0.1):\n",
    "        super().__init__()\n",
    "        \n",
    "        # First convolutional layer in the block\n",
    "        self.conv1 = nn.Conv2d(in_channels, out_channels, kernel_size=3, stride=stride, padding=1, bias=False)\n",
    "        self.bn1 = nn.BatchNorm2d(out_channels)\n",
    "        self.relu = nn.ReLU(inplace=True) # ReLU activation\n",
    "        # Dropout2d is used for feature maps (spatial dropout)\n",
    "        self.dropout_conv = nn.Dropout2d(p=dropout_rate) \n",
    "\n",
    "        # Second convolutional layer in the block\n",
    "        self.conv2 = nn.Conv2d(out_channels, out_channels, kernel_size=3, stride=1, padding=1, bias=False)\n",
    "        self.bn2 = nn.BatchNorm2d(out_channels)\n",
    "\n",
    "        # Downsample layer for the shortcut connection if dimensions or channels change\n",
    "        self.downsample = None\n",
    "        if stride != 1 or in_channels != out_channels:\n",
    "            self.downsample = nn.Sequential(\n",
    "                nn.Conv2d(in_channels, out_channels, kernel_size=1, stride=stride, bias=False),\n",
    "                nn.BatchNorm2d(out_channels)\n",
    "            )\n",
    "\n",
    "    def forward(self, x):\n",
    "        identity = x # Store the input for the shortcut connection\n",
    "\n",
    "        # Main path\n",
    "        out = self.conv1(x)\n",
    "        out = self.bn1(out)\n",
    "        out = self.relu(out)\n",
    "        out = self.dropout_conv(out) # Apply dropout after the first activation\n",
    "\n",
    "        out = self.conv2(out)\n",
    "        out = self.bn2(out)\n",
    "\n",
    "        # Shortcut connection\n",
    "        if self.downsample is not None:\n",
    "            identity = self.downsample(x)\n",
    "        \n",
    "        out += identity # Add the shortcut connection\n",
    "        out = self.relu(out) # Final activation for the block\n",
    "        \n",
    "        return out\n",
    "\n",
    "class ResNetEmotion(nn.Module):\n",
    "    \"\"\"\n",
    "    Residual CNN model for emotion recognition.\n",
    "    Args:\n",
    "        num_classes (int): Number of output classes.\n",
    "        dropout_rate (float): Dropout rate for FC layers and conv blocks. Default is 0.1.\n",
    "    \"\"\"\n",
    "    def __init__(self, num_classes, dropout_rate=0.1):\n",
    "        super().__init__()\n",
    "        \n",
    "        self.num_classes = num_classes\n",
    "        self.dropout_rate = dropout_rate\n",
    "        self.base_channels = 32 # Base number of channels for the first conv layers\n",
    "\n",
    "        # Initial convolution layer\n",
    "        # Input shape: [Batch, Channels, Time, Frequency], e.g., [B, 1, T, F]\n",
    "        self.conv1 = nn.Conv2d(1, self.base_channels, kernel_size=3, stride=1, padding=1, bias=False)\n",
    "        self.bn1 = nn.BatchNorm2d(self.base_channels)\n",
    "        self.relu = nn.ReLU(inplace=True) # Re-usable ReLU activation\n",
    "        self.pool1 = nn.MaxPool2d(kernel_size=2, stride=2) # Halves Time and Frequency dimensions\n",
    "\n",
    "        # Residual blocks\n",
    "        # Block 1: Maintains dimensions and channel count (base_channels -> base_channels)\n",
    "        self.res_block1 = ResidualBlock(self.base_channels, self.base_channels, stride=1, dropout_rate=self.dropout_rate)\n",
    "        \n",
    "        # Block 2: Doubles channels and halves dimensions (base_channels -> base_channels * 2)\n",
    "        self.res_block2 = ResidualBlock(self.base_channels, self.base_channels * 2, stride=2, dropout_rate=self.dropout_rate)\n",
    "        self.current_channels = self.base_channels * 2 # Update current channel count\n",
    "\n",
    "        # (Optional) Add more blocks for a deeper network if needed:\n",
    "        # self.res_block3 = ResidualBlock(self.current_channels, self.current_channels, stride=1, dropout_rate=self.dropout_rate)\n",
    "        # self.res_block4 = ResidualBlock(self.current_channels, self.current_channels * 2, stride=2, dropout_rate=self.dropout_rate)\n",
    "        # self.current_channels *= 2\n",
    "\n",
    "        # Global average pooling reduces each feature map to a single value\n",
    "        self.adaptive_avg_pool = nn.AdaptiveAvgPool2d((1, 1)) # Output: [B, current_channels, 1, 1]\n",
    "\n",
    "        # Fully connected layers for classification\n",
    "        self.fc1 = nn.Linear(self.current_channels, 128) # FC layer, e.g., 64 -> 128\n",
    "        self.dropout_fc = nn.Dropout(p=self.dropout_rate) # Dropout for the FC layer\n",
    "        self.out = nn.Linear(128, self.num_classes) # Output layer\n",
    "\n",
    "        # Initialize weights\n",
    "        self._initialize_weights()\n",
    "\n",
    "    def _initialize_weights(self):\n",
    "        \"\"\"Initializes weights for Conv2d and BatchNorm2d layers.\"\"\"\n",
    "        for m in self.modules():\n",
    "            if isinstance(m, nn.Conv2d):\n",
    "                nn.init.kaiming_normal_(m.weight, mode='fan_out', nonlinearity='relu')\n",
    "            elif isinstance(m, nn.BatchNorm2d):\n",
    "                nn.init.constant_(m.weight, 1)\n",
    "                nn.init.constant_(m.bias, 0)\n",
    "            elif isinstance(m, nn.Linear):\n",
    "                nn.init.xavier_uniform_(m.weight)\n",
    "                if m.bias is not None:\n",
    "                    nn.init.constant_(m.bias, 0)\n",
    "\n",
    "    def forward(self, x):\n",
    "        \"\"\"\n",
    "        Forward pass of the ResNetEmotion model.\n",
    "        Args:\n",
    "            x (torch.Tensor): Input tensor. Expected shape [B, T, F] or [B, 1, T, F].\n",
    "        Returns:\n",
    "            torch.Tensor: Output tensor with shape [B, num_classes].\n",
    "        \"\"\"\n",
    "        # Ensure input is 4D: [Batch, Channels, Time, Frequency]\n",
    "        if len(x.shape) == 3:  # If input is [B, T, F]\n",
    "            x = x.unsqueeze(1)  # Add channel dimension: [B, 1, T, F]\n",
    "        elif len(x.shape) != 4 or x.shape[1] != 1:\n",
    "             # This model assumes a single input channel (e.g., grayscale spectrogram)\n",
    "             # If multi-channel input, self.conv1's in_channels needs to change.\n",
    "            pass # Allow for [B, C, T, F] if C is already 1. Or raise error if C > 1 and not handled.\n",
    "            # For now, we assume if 4D, it's [B, 1, T, F] or user adapts conv1\n",
    "\n",
    "        # Initial convolution part\n",
    "        x = self.conv1(x)\n",
    "        x = self.bn1(x)\n",
    "        x = self.relu(x)\n",
    "        x = self.pool1(x) # Shape: [B, base_channels, T/2, F/2]\n",
    "\n",
    "        # Residual blocks\n",
    "        x = self.res_block1(x) # Shape: [B, base_channels, T/2, F/2]\n",
    "        x = self.res_block2(x) # Shape: [B, base_channels*2, T/4, F/4]\n",
    "        # If more blocks were added:\n",
    "        # x = self.res_block3(x)\n",
    "        # x = self.res_block4(x)\n",
    "\n",
    "        # Pooling and Classification\n",
    "        x = self.adaptive_avg_pool(x) # Shape: [B, current_channels, 1, 1]\n",
    "        x = x.view(x.size(0), -1)    # Flatten: [B, current_channels]\n",
    "        \n",
    "        x = self.fc1(x)\n",
    "        x = self.relu(x) # Activation after the first FC layer\n",
    "        x = self.dropout_fc(x) # Apply dropout\n",
    "        x = self.out(x) # Final output\n",
    "        \n",
    "        return x"
   ]
  },
  {
   "cell_type": "markdown",
   "id": "55832081",
   "metadata": {},
   "source": [
    "---\n",
    "\n",
    "## 8. Training & Hyperparameter Tuning\n",
    "\n",
    "# Reasoning: Adam optimizer + moderate LR + stratified sampling + early stopping"
   ]
  },
  {
   "cell_type": "code",
   "execution_count": 32,
   "id": "1c03963d",
   "metadata": {},
   "outputs": [],
   "source": [
    "X_train_val, X_test, y_train_val, y_test = train_test_split(X, y_encoded, test_size=0.2, stratify=y_encoded)\n",
    "X_train, X_val, y_train, y_val = train_test_split(X_train_val, y_train_val, test_size=0.25, stratify=y_train_val)\n",
    "train_val_ds = EmotionDataset(X_train_val, y_train_val)\n",
    "train_ds = EmotionDataset(X_train, y_train)\n",
    "val_ds = EmotionDataset(X_val, y_val)\n",
    "test_ds = EmotionDataset(X_test, y_test)\n",
    "train_val_loader = DataLoader(train_val_ds, batch_size=16, shuffle=True)\n",
    "train_loader = DataLoader(train_ds, batch_size=16, shuffle=True)\n",
    "val_loader = DataLoader(val_ds, batch_size=16)\n",
    "test_loader = DataLoader(test_ds, batch_size=16)"
   ]
  },
  {
   "cell_type": "code",
   "execution_count": null,
   "id": "8f95ff4c",
   "metadata": {},
   "outputs": [],
   "source": [
    "#model = CNNEmotion(num_classes=len(le.classes_))\n",
    "model = TransformerEmotion()\n"
   ]
  },
  {
   "cell_type": "code",
   "execution_count": 27,
   "id": "ec2bb578",
   "metadata": {},
   "outputs": [],
   "source": [
    "device = torch.device(\"cuda\" if torch.cuda.is_available() else \"cpu\")\n",
    "# model = model.to(device)\n",
    "# criterion = nn.CrossEntropyLoss()\n",
    "# optimizer = torch.optim.Adam(model.parameters(), lr=0.001)\n",
    "# scheduler = torch.optim.lr_scheduler.StepLR(optimizer, step_size=5, gamma=0.8)"
   ]
  },
  {
   "cell_type": "code",
   "execution_count": null,
   "id": "4b78157e",
   "metadata": {},
   "outputs": [
    {
     "name": "stderr",
     "output_type": "stream",
     "text": [
      "                                                                        \r"
     ]
    },
    {
     "name": "stdout",
     "output_type": "stream",
     "text": [
      "Epoch 4 completed. Average Loss: 0.3061\n"
     ]
    },
    {
     "name": "stderr",
     "output_type": "stream",
     "text": [
      "                                                                         \r"
     ]
    },
    {
     "name": "stdout",
     "output_type": "stream",
     "text": [
      "Epoch 8 completed. Average Loss: 0.0214\n"
     ]
    },
    {
     "name": "stderr",
     "output_type": "stream",
     "text": [
      "                                                                          \r"
     ]
    },
    {
     "name": "stdout",
     "output_type": "stream",
     "text": [
      "Epoch 12 completed. Average Loss: 0.0098\n"
     ]
    },
    {
     "name": "stderr",
     "output_type": "stream",
     "text": [
      "                                                                          \r"
     ]
    },
    {
     "name": "stdout",
     "output_type": "stream",
     "text": [
      "Epoch 16 completed. Average Loss: 0.0058\n"
     ]
    },
    {
     "name": "stderr",
     "output_type": "stream",
     "text": [
      "                                                                          \r"
     ]
    },
    {
     "name": "stdout",
     "output_type": "stream",
     "text": [
      "Epoch 20 completed. Average Loss: 0.0041\n"
     ]
    },
    {
     "name": "stderr",
     "output_type": "stream",
     "text": [
      "                                                                          \r"
     ]
    },
    {
     "name": "stdout",
     "output_type": "stream",
     "text": [
      "Epoch 24 completed. Average Loss: 0.0033\n"
     ]
    },
    {
     "name": "stderr",
     "output_type": "stream",
     "text": [
      "                                                                          \r"
     ]
    },
    {
     "name": "stdout",
     "output_type": "stream",
     "text": [
      "Epoch 28 completed. Average Loss: 0.0027\n"
     ]
    },
    {
     "name": "stderr",
     "output_type": "stream",
     "text": [
      "                                                                           \r"
     ]
    },
    {
     "name": "stdout",
     "output_type": "stream",
     "text": [
      "Epoch 32 completed. Average Loss: 0.0022\n"
     ]
    },
    {
     "name": "stderr",
     "output_type": "stream",
     "text": [
      "                                                                           \r"
     ]
    },
    {
     "name": "stdout",
     "output_type": "stream",
     "text": [
      "Epoch 36 completed. Average Loss: 0.0019\n"
     ]
    },
    {
     "name": "stderr",
     "output_type": "stream",
     "text": [
      "                                                                           "
     ]
    },
    {
     "name": "stdout",
     "output_type": "stream",
     "text": [
      "Epoch 40 completed. Average Loss: 0.0017\n"
     ]
    },
    {
     "name": "stderr",
     "output_type": "stream",
     "text": [
      "\r"
     ]
    }
   ],
   "source": [
    "# from tqdm import tqdm  # Import tqdm for progress bars\n",
    "\n",
    "# # Training loop with tqdm progress bar\n",
    "# for epoch in range(40):\n",
    "#     model.train()\n",
    "#     epoch_loss = 0\n",
    "#     progress_bar = tqdm(train_loader, desc=f\"Epoch {epoch+1}/{40}\", leave=False)\n",
    "    \n",
    "#     for Xb, yb in progress_bar:\n",
    "#         Xb, yb = Xb.to(device), yb.to(device)\n",
    "#         optimizer.zero_grad()\n",
    "#         loss = criterion(model(Xb), yb)\n",
    "#         loss.backward()\n",
    "#         optimizer.step()\n",
    "        \n",
    "#         epoch_loss += loss.item()\n",
    "#         progress_bar.set_postfix(loss=loss.item())\n",
    "    \n",
    "#     scheduler.step()\n",
    "#     if (epoch + 1) % 4 == 0:\n",
    "#         print(f\"Epoch {epoch+1} completed. Average Loss: {epoch_loss/len(train_loader):.4f}\")"
   ]
  },
  {
   "cell_type": "code",
   "execution_count": 33,
   "id": "f08b7d83",
   "metadata": {},
   "outputs": [],
   "source": [
    "# Function to train a model\n",
    "def train_model(model, train_loader, val_loader, criterion, optimizer, scheduler, \n",
    "                num_epochs=40, patience=8, model_path='best_model.pt'):\n",
    "    \"\"\"\n",
    "    Train the model with early stopping\n",
    "    \"\"\"\n",
    "    best_val_loss = float('inf')\n",
    "    best_val_acc = 0.0\n",
    "    early_stop_counter = 0\n",
    "    train_losses, val_losses = [], []\n",
    "    train_accs, val_accs = [], []\n",
    "    \n",
    "    for epoch in range(num_epochs):\n",
    "        # Training\n",
    "        model.train()\n",
    "        running_loss = 0.0\n",
    "        correct = 0\n",
    "        total = 0\n",
    "        \n",
    "        progress_bar = tqdm(train_loader, desc=f\"Epoch {epoch+1}/{num_epochs}\", leave=False)\n",
    "        for inputs, labels in progress_bar:\n",
    "            inputs, labels = inputs.to(device), labels.to(device)\n",
    "            \n",
    "            optimizer.zero_grad()\n",
    "            outputs = model(inputs)\n",
    "            loss = criterion(outputs, labels)\n",
    "            loss.backward()\n",
    "            optimizer.step()\n",
    "            \n",
    "            running_loss += loss.item()\n",
    "            _, predicted = torch.max(outputs.data, 1)\n",
    "            total += labels.size(0)\n",
    "            correct += (predicted == labels).sum().item()\n",
    "            \n",
    "            progress_bar.set_postfix(loss=loss.item(), accuracy=correct/total)\n",
    "        \n",
    "        train_loss = running_loss / len(train_loader)\n",
    "        train_acc = correct / total\n",
    "        train_losses.append(train_loss)\n",
    "        train_accs.append(train_acc)\n",
    "        \n",
    "        # Validation\n",
    "        model.eval()\n",
    "        val_loss = 0.0\n",
    "        val_correct = 0\n",
    "        val_total = 0\n",
    "        \n",
    "        with torch.no_grad():\n",
    "            for inputs, labels in val_loader:\n",
    "                inputs, labels = inputs.to(device), labels.to(device)\n",
    "                outputs = model(inputs)\n",
    "                loss = criterion(outputs, labels)\n",
    "                \n",
    "                val_loss += loss.item()\n",
    "                _, predicted = torch.max(outputs.data, 1)\n",
    "                val_total += labels.size(0)\n",
    "                val_correct += (predicted == labels).sum().item()\n",
    "        \n",
    "        val_loss = val_loss / len(val_loader)\n",
    "        val_acc = val_correct / val_total\n",
    "        val_losses.append(val_loss)\n",
    "        val_accs.append(val_acc)\n",
    "        \n",
    "        # Print progress\n",
    "        print(f\"Epoch {epoch+1}/{num_epochs} | \"\n",
    "              f\"Train Loss: {train_loss:.4f}, Train Acc: {train_acc:.4f} | \"\n",
    "              f\"Val Loss: {val_loss:.4f}, Val Acc: {val_acc:.4f}\")\n",
    "        \n",
    "        # Learning rate scheduler\n",
    "        if scheduler:\n",
    "            scheduler.step()\n",
    "        \n",
    "        # Save the best model\n",
    "        if val_acc > best_val_acc:\n",
    "            best_val_acc = val_acc\n",
    "            best_val_loss = val_loss\n",
    "            early_stop_counter = 0\n",
    "            torch.save(model.state_dict(), model_path)\n",
    "            print(f\"Saved best model with Val Acc: {val_acc:.4f}\")\n",
    "        else:\n",
    "            early_stop_counter += 1\n",
    "            \n",
    "        # Early stopping\n",
    "        if early_stop_counter >= patience:\n",
    "            print(f\"Early stopping triggered after {epoch+1} epochs\")\n",
    "            break\n",
    "    \n",
    "    # Load the best model\n",
    "    model.load_state_dict(torch.load(model_path))\n",
    "    \n",
    "    return model, {\n",
    "        'train_losses': train_losses,\n",
    "        'val_losses': val_losses,\n",
    "        'train_accs': train_accs,\n",
    "        'val_accs': val_accs,\n",
    "        'best_val_acc': best_val_acc\n",
    "    }"
   ]
  },
  {
   "cell_type": "code",
   "execution_count": 36,
   "id": "40474cd1",
   "metadata": {},
   "outputs": [],
   "source": [
    "# Function for hyperparameter tuning with Optuna\n",
    "def objective_cnn(trial):\n",
    "    \"\"\"\n",
    "    Objective function for Optuna to optimize CNN hyperparameters\n",
    "    \"\"\"\n",
    "    # Hyperparameters to optimize\n",
    "    batch_size = trial.suggest_categorical('batch_size', [16, 32, 64])\n",
    "    lr = trial.suggest_float('lr', 1e-4, 1e-2, log=True)\n",
    "    dropout_rate = trial.suggest_float('dropout_rate', 0.1, 0.5)\n",
    "    gamma = trial.suggest_float('gamma', 0.5, 0.95)\n",
    "    step_size = trial.suggest_int('step_size', 3, 10)\n",
    "    \n",
    "    # Create data loaders with the suggested batch_size\n",
    "    train_loader = DataLoader(train_ds, batch_size=batch_size, shuffle=True)\n",
    "    val_loader = DataLoader(val_ds, batch_size=batch_size)\n",
    "    \n",
    "    # Initialize the model\n",
    "    model = CNNEmotion(num_classes=len(emotion_map), dropout_rate=dropout_rate).to(device)\n",
    "    \n",
    "    # Loss function and optimizer\n",
    "    criterion = nn.CrossEntropyLoss()\n",
    "    optimizer = torch.optim.Adam(model.parameters(), lr=lr)\n",
    "    scheduler = torch.optim.lr_scheduler.StepLR(optimizer, step_size=step_size, gamma=gamma)\n",
    "    \n",
    "    # Train for a few epochs to see how it performs\n",
    "    trial_epochs = 15  # Reduced number of epochs for faster trials\n",
    "    patience = 5\n",
    "    \n",
    "    best_val_acc = 0.0\n",
    "    \n",
    "    for epoch in range(trial_epochs):\n",
    "        # Training\n",
    "        model.train()\n",
    "        running_loss = 0.0\n",
    "        \n",
    "        for inputs, labels in train_loader:\n",
    "            inputs, labels = inputs.to(device), labels.to(device)\n",
    "            \n",
    "            optimizer.zero_grad()\n",
    "            outputs = model(inputs)\n",
    "            loss = criterion(outputs, labels)\n",
    "            loss.backward()\n",
    "            optimizer.step()\n",
    "            \n",
    "            running_loss += loss.item()\n",
    "        \n",
    "        # Validation\n",
    "        model.eval()\n",
    "        val_correct = 0\n",
    "        val_total = 0\n",
    "        \n",
    "        with torch.no_grad():\n",
    "            for inputs, labels in val_loader:\n",
    "                inputs, labels = inputs.to(device), labels.to(device)\n",
    "                outputs = model(inputs)\n",
    "                \n",
    "                _, predicted = torch.max(outputs.data, 1)\n",
    "                val_total += labels.size(0)\n",
    "                val_correct += (predicted == labels).sum().item()\n",
    "        \n",
    "        val_acc = val_correct / val_total\n",
    "        \n",
    "        # Update best accuracy\n",
    "        if val_acc > best_val_acc:\n",
    "            best_val_acc = val_acc\n",
    "            early_stop_counter = 0\n",
    "        else:\n",
    "            early_stop_counter += 1\n",
    "        \n",
    "        # Step the scheduler\n",
    "        scheduler.step()\n",
    "        \n",
    "        # Report intermediate result\n",
    "        trial.report(val_acc, epoch)\n",
    "        \n",
    "        # Early stopping\n",
    "        if early_stop_counter >= patience:\n",
    "            break\n",
    "        \n",
    "        # Handle pruning\n",
    "        if trial.should_prune():\n",
    "            raise optuna.exceptions.TrialPruned()\n",
    "    \n",
    "    return best_val_acc"
   ]
  },
  {
   "cell_type": "code",
   "execution_count": null,
   "id": "7dadbd0a",
   "metadata": {},
   "outputs": [],
   "source": [
    "# Function for hyperparameter tuning with Optuna\n",
    "def objective_rcnn(trial):\n",
    "    \"\"\"\n",
    "    Objective function for Optuna to optimize CNN hyperparameters\n",
    "    \"\"\"\n",
    "    # Hyperparameters to optimize\n",
    "    batch_size = trial.suggest_categorical('batch_size', [16, 32, 64])\n",
    "    lr = trial.suggest_float('lr', 1e-4, 1e-2, log=True)\n",
    "    dropout_rate = trial.suggest_float('dropout_rate', 0.1, 0.5)\n",
    "    gamma = trial.suggest_float('gamma', 0.5, 0.95)\n",
    "    step_size = trial.suggest_int('step_size', 3, 10)\n",
    "    \n",
    "    # Create data loaders with the suggested batch_size\n",
    "    train_loader = DataLoader(train_ds, batch_size=batch_size, shuffle=True)\n",
    "    val_loader = DataLoader(val_ds, batch_size=batch_size)\n",
    "    \n",
    "    # Initialize the model\n",
    "    model = ResNetEmotion(num_classes=len(emotion_map), dropout_rate=dropout_rate).to(device)\n",
    "    \n",
    "    # Loss function and optimizer\n",
    "    criterion = nn.CrossEntropyLoss()\n",
    "    optimizer = torch.optim.Adam(model.parameters(), lr=lr)\n",
    "    scheduler = torch.optim.lr_scheduler.StepLR(optimizer, step_size=step_size, gamma=gamma)\n",
    "    \n",
    "    # Train for a few epochs to see how it performs\n",
    "    trial_epochs = 15  # Reduced number of epochs for faster trials\n",
    "    patience = 5\n",
    "    \n",
    "    best_val_acc = 0.0\n",
    "    \n",
    "    for epoch in range(trial_epochs):\n",
    "        # Training\n",
    "        model.train()\n",
    "        running_loss = 0.0\n",
    "        \n",
    "        for inputs, labels in train_loader:\n",
    "            inputs, labels = inputs.to(device), labels.to(device)\n",
    "            \n",
    "            optimizer.zero_grad()\n",
    "            outputs = model(inputs)\n",
    "            loss = criterion(outputs, labels)\n",
    "            loss.backward()\n",
    "            optimizer.step()\n",
    "            \n",
    "            running_loss += loss.item()\n",
    "        \n",
    "        # Validation\n",
    "        model.eval()\n",
    "        val_correct = 0\n",
    "        val_total = 0\n",
    "        \n",
    "        with torch.no_grad():\n",
    "            for inputs, labels in val_loader:\n",
    "                inputs, labels = inputs.to(device), labels.to(device)\n",
    "                outputs = model(inputs)\n",
    "                \n",
    "                _, predicted = torch.max(outputs.data, 1)\n",
    "                val_total += labels.size(0)\n",
    "                val_correct += (predicted == labels).sum().item()\n",
    "        \n",
    "        val_acc = val_correct / val_total\n",
    "        \n",
    "        # Update best accuracy\n",
    "        if val_acc > best_val_acc:\n",
    "            best_val_acc = val_acc\n",
    "            early_stop_counter = 0\n",
    "        else:\n",
    "            early_stop_counter += 1\n",
    "        \n",
    "        # Step the scheduler\n",
    "        scheduler.step()\n",
    "        \n",
    "        # Report intermediate result\n",
    "        trial.report(val_acc, epoch)\n",
    "        \n",
    "        # Early stopping\n",
    "        if early_stop_counter >= patience:\n",
    "            break\n",
    "        \n",
    "        # Handle pruning\n",
    "        if trial.should_prune():\n",
    "            raise optuna.exceptions.TrialPruned()\n",
    "    \n",
    "    return best_val_acc"
   ]
  },
  {
   "cell_type": "code",
   "execution_count": 37,
   "id": "ae5e7086",
   "metadata": {},
   "outputs": [],
   "source": [
    "def objective_lstm(trial):\n",
    "    \"\"\"\n",
    "    Objective function for Optuna to optimize LSTM hyperparameters\n",
    "    \"\"\"\n",
    "    # Hyperparameters to optimize\n",
    "    batch_size = trial.suggest_categorical('batch_size', [16, 32, 64])\n",
    "    lr = trial.suggest_float('lr', 1e-4, 1e-2, log=True)\n",
    "    hidden_size = trial.suggest_categorical('hidden_size', [64, 128, 256])\n",
    "    num_layers = trial.suggest_int('num_layers', 1, 3)\n",
    "    dropout_rate = trial.suggest_float('dropout_rate', 0.1, 0.5)\n",
    "    gamma = trial.suggest_float('gamma', 0.5, 0.95)\n",
    "    step_size = trial.suggest_int('step_size', 3, 10)\n",
    "    \n",
    "    # Create data loaders with the suggested batch_size\n",
    "    train_loader = DataLoader(train_ds, batch_size=batch_size, shuffle=True)\n",
    "    val_loader = DataLoader(val_ds, batch_size=batch_size)\n",
    "    \n",
    "    # Determine input size based on data shape\n",
    "    sample_data = next(iter(train_loader))[0]\n",
    "    if len(sample_data.shape) == 4:  # If working with spectrograms\n",
    "        input_size = sample_data.shape[1] * sample_data.shape[3]  # Channels * Features\n",
    "    else:  # If working with MFCCs or similar\n",
    "        input_size = sample_data.shape[2]  # Feature dimension\n",
    "    \n",
    "    # Initialize the model\n",
    "    model = LSTMEmotion(\n",
    "        input_size=input_size,\n",
    "        hidden_size=hidden_size,\n",
    "        num_layers=num_layers,\n",
    "        num_classes=len(emotion_map),\n",
    "        dropout_rate=dropout_rate\n",
    "    ).to(device)\n",
    "    \n",
    "    # Loss function and optimizer\n",
    "    criterion = nn.CrossEntropyLoss()\n",
    "    optimizer = torch.optim.Adam(model.parameters(), lr=lr)\n",
    "    scheduler = torch.optim.lr_scheduler.StepLR(optimizer, step_size=step_size, gamma=gamma)\n",
    "    \n",
    "    # Train for a few epochs to see how it performs\n",
    "    trial_epochs = 15  # Reduced number of epochs for faster trials\n",
    "    patience = 5\n",
    "    \n",
    "    best_val_acc = 0.0\n",
    "    early_stop_counter = 0\n",
    "    \n",
    "    for epoch in range(trial_epochs):\n",
    "        # Training\n",
    "        model.train()\n",
    "        running_loss = 0.0\n",
    "        \n",
    "        for inputs, labels in train_loader:\n",
    "            inputs, labels = inputs.to(device), labels.to(device)\n",
    "            \n",
    "            optimizer.zero_grad()\n",
    "            outputs = model(inputs)\n",
    "            loss = criterion(outputs, labels)\n",
    "            loss.backward()\n",
    "            optimizer.step()\n",
    "            \n",
    "            running_loss += loss.item()\n",
    "        \n",
    "        # Validation\n",
    "        model.eval()\n",
    "        val_correct = 0\n",
    "        val_total = 0\n",
    "        \n",
    "        with torch.no_grad():\n",
    "            for inputs, labels in val_loader:\n",
    "                inputs, labels = inputs.to(device), labels.to(device)\n",
    "                outputs = model(inputs)\n",
    "                \n",
    "                _, predicted = torch.max(outputs.data, 1)\n",
    "                val_total += labels.size(0)\n",
    "                val_correct += (predicted == labels).sum().item()\n",
    "        \n",
    "        val_acc = val_correct / val_total\n",
    "        \n",
    "        # Update best accuracy\n",
    "        if val_acc > best_val_acc:\n",
    "            best_val_acc = val_acc\n",
    "            early_stop_counter = 0\n",
    "        else:\n",
    "            early_stop_counter += 1\n",
    "        \n",
    "        # Step the scheduler\n",
    "        scheduler.step()\n",
    "        \n",
    "        # Report intermediate result\n",
    "        trial.report(val_acc, epoch)\n",
    "        \n",
    "        # Early stopping\n",
    "        if early_stop_counter >= patience:\n",
    "            break\n",
    "        \n",
    "        # Handle pruning\n",
    "        if trial.should_prune():\n",
    "            raise optuna.exceptions.TrialPruned()\n",
    "    \n",
    "    return best_val_acc"
   ]
  },
  {
   "cell_type": "code",
   "execution_count": null,
   "id": "c9dc5449",
   "metadata": {},
   "outputs": [],
   "source": [
    "def objective_transformer(trial):\n",
    "    \"\"\"\n",
    "    Objective function for Optuna to optimize Transformer hyperparameters.\n",
    "    \"\"\"\n",
    "    # Hyperparameters to optimize\n",
    "    batch_size = trial.suggest_categorical('batch_size', [16, 32, 64])\n",
    "    lr = trial.suggest_float('lr', 1e-5, 1e-3, log=True) # Adjusted lr range for transformers\n",
    "    dropout_rate = trial.suggest_float('dropout_rate', 0.1, 0.5)\n",
    "    gamma = trial.suggest_float('gamma', 0.7, 0.98) # Scheduler gamma\n",
    "    step_size = trial.suggest_int('step_size', 5, 15) # Scheduler step size\n",
    "\n",
    "    # Transformer specific hyperparameters\n",
    "    d_model = trial.suggest_categorical('d_model', [64, 128, 256])\n",
    "    \n",
    "\n",
    "    possible_nheads = [h for h in [2, 4, 8] if d_model % h == 0]\n",
    "    if not possible_nheads:\n",
    "        print(f\"Warning: No valid nhead for d_model={d_model}. Pruning or using default.\")\n",
    "        raise optuna.exceptions.TrialPruned()\n",
    "    nhead = trial.suggest_categorical('nhead', possible_nheads)\n",
    "\n",
    "    num_encoder_layers = trial.suggest_int('num_encoder_layers', 2, 6)\n",
    "    dim_feedforward = trial.suggest_categorical('dim_feedforward', [256, 512, 1024, 2048])\n",
    "\n",
    "    # Create data loaders with the suggested batch_size\n",
    "    train_loader = DataLoader(train_ds, batch_size=batch_size, shuffle=True)\n",
    "    val_loader = DataLoader(val_ds, batch_size=batch_size)\n",
    "\n",
    "    # Determine input size based on data shape\n",
    "    sample_data = next(iter(train_loader))[0]\n",
    "    if len(sample_data.shape) == 4:  # If working with spectrograms\n",
    "        input_size = sample_data.shape[1] * sample_data.shape[3]  # Channels * Features\n",
    "    else:  # If working with MFCCs or similar\n",
    "        input_size = sample_data.shape[2]  # Feature dimension\n",
    "    \n",
    "    # Initialize the model\n",
    "    # Ensure MODEL_INPUT_SIZE and NUM_CLASSES are defined globally or passed\n",
    "    model = TransformerEmotion(\n",
    "        input_size=input_size, # This is C * F from the input data [B, C, T, F]\n",
    "        num_classes=len(emotion_map),\n",
    "        d_model=d_model,\n",
    "        nhead=nhead,\n",
    "        num_encoder_layers=num_encoder_layers,\n",
    "        dim_feedforward=dim_feedforward,\n",
    "        dropout=dropout_rate\n",
    "    ).to(device)\n",
    "    \n",
    "    # Loss function and optimizer\n",
    "    criterion = nn.CrossEntropyLoss()\n",
    "    optimizer = torch.optim.Adam(model.parameters(), lr=lr)\n",
    "    scheduler = torch.optim.lr_scheduler.StepLR(optimizer, step_size=step_size, gamma=gamma)\n",
    "    \n",
    "    # Training parameters\n",
    "    trial_epochs = 15  # Reduced number of epochs for faster trials in HPO\n",
    "    patience = 5      # Early stopping patience\n",
    "    best_val_acc = 0.0\n",
    "    early_stop_counter = 0\n",
    "    \n",
    "    for epoch in range(trial_epochs):\n",
    "        # Training phase\n",
    "        model.train()\n",
    "        running_loss = 0.0\n",
    "        train_correct = 0\n",
    "        train_total = 0\n",
    "        \n",
    "        for inputs, labels in train_loader:\n",
    "            inputs, labels = inputs.to(device), labels.to(device)\n",
    "            \n",
    "            optimizer.zero_grad()\n",
    "            outputs = model(inputs) # inputs shape: [batch, channels, time_steps, features]\n",
    "            loss = criterion(outputs, labels)\n",
    "            loss.backward()\n",
    "            optimizer.step()\n",
    "            \n",
    "            running_loss += loss.item() * inputs.size(0)\n",
    "            _, predicted = torch.max(outputs.data, 1)\n",
    "            train_total += labels.size(0)\n",
    "            train_correct += (predicted == labels).sum().item()\n",
    "        \n",
    "        # Validation phase\n",
    "        model.eval()\n",
    "        val_correct = 0\n",
    "        val_total = 0\n",
    "        val_loss = 0.0\n",
    "        \n",
    "        with torch.no_grad():\n",
    "            for inputs, labels in val_loader:\n",
    "                inputs, labels = inputs.to(device), labels.to(device)\n",
    "                outputs = model(inputs)\n",
    "                loss = criterion(outputs, labels)\n",
    "                val_loss += loss.item() * inputs.size(0)\n",
    "                \n",
    "                _, predicted = torch.max(outputs.data, 1)\n",
    "                val_total += labels.size(0)\n",
    "                val_correct += (predicted == labels).sum().item()\n",
    "        \n",
    "        val_acc = val_correct / val_total\n",
    "        avg_val_loss = val_loss / len(val_loader.dataset)\n",
    "        \n",
    "        # Update best validation accuracy and handle early stopping\n",
    "        if val_acc > best_val_acc:\n",
    "            best_val_acc = val_acc\n",
    "            early_stop_counter = 0\n",
    "            # Optionally save the best model for this trial (if needed later)\n",
    "            # torch.save(model.state_dict(), f\"best_model_trial_{trial.number}.pt\")\n",
    "        else:\n",
    "            early_stop_counter += 1\n",
    "        \n",
    "        # Step the learning rate scheduler\n",
    "        scheduler.step()\n",
    "        \n",
    "        # Report intermediate result to Optuna\n",
    "        # Optuna can use this to prune unpromising trials early\n",
    "        trial.report(val_acc, epoch)\n",
    "        \n",
    "        # Handle pruning\n",
    "        if trial.should_prune():\n",
    "            print(f\"Trial {trial.number} pruned at epoch {epoch+1}.\")\n",
    "            raise optuna.exceptions.TrialPruned()\n",
    "        \n",
    "        # Early stopping based on patience\n",
    "        if early_stop_counter >= patience:\n",
    "            print(f\"Early stopping at epoch {epoch+1} for trial {trial.number}.\")\n",
    "            break\n",
    "            \n",
    "    return best_val_acc"
   ]
  },
  {
   "cell_type": "code",
   "execution_count": 40,
   "id": "e4b7a81b",
   "metadata": {},
   "outputs": [
    {
     "name": "stderr",
     "output_type": "stream",
     "text": [
      "[I 2025-05-09 11:47:30,678] A new study created in memory with name: no-name-8c92754f-7df7-41ef-9813-18f3dbe01495\n",
      "[I 2025-05-09 11:47:57,850] Trial 0 finished with value: 0.6416184971098265 and parameters: {'batch_size': 16, 'lr': 0.0001967279623158883, 'dropout_rate': 0.3906136197819599, 'gamma': 0.8825005449517268, 'step_size': 10}. Best is trial 0 with value: 0.6416184971098265.\n",
      "[I 2025-05-09 11:48:23,124] Trial 1 finished with value: 0.630057803468208 and parameters: {'batch_size': 16, 'lr': 0.0025105013763121833, 'dropout_rate': 0.26871587376873535, 'gamma': 0.8178351606784551, 'step_size': 8}. Best is trial 0 with value: 0.6416184971098265.\n",
      "[I 2025-05-09 11:48:36,663] Trial 2 finished with value: 0.6069364161849711 and parameters: {'batch_size': 32, 'lr': 0.0004304347670647763, 'dropout_rate': 0.40065048695741456, 'gamma': 0.6687256930400021, 'step_size': 7}. Best is trial 0 with value: 0.6416184971098265.\n",
      "[I 2025-05-09 11:48:50,923] Trial 3 finished with value: 0.5491329479768786 and parameters: {'batch_size': 64, 'lr': 0.003939282638123739, 'dropout_rate': 0.10211195629427433, 'gamma': 0.7079890810182429, 'step_size': 4}. Best is trial 0 with value: 0.6416184971098265.\n",
      "[I 2025-05-09 11:49:08,577] Trial 4 finished with value: 0.5375722543352601 and parameters: {'batch_size': 32, 'lr': 0.003471645502501275, 'dropout_rate': 0.48507150495442986, 'gamma': 0.9465924353513593, 'step_size': 6}. Best is trial 0 with value: 0.6416184971098265.\n",
      "[I 2025-05-09 11:49:13,777] Trial 5 pruned. \n",
      "[I 2025-05-09 11:49:16,637] Trial 6 pruned. \n",
      "[I 2025-05-09 11:49:17,850] Trial 7 pruned. \n",
      "[I 2025-05-09 11:49:21,396] Trial 8 pruned. \n",
      "[I 2025-05-09 11:49:22,387] Trial 9 pruned. \n",
      "[I 2025-05-09 11:49:36,072] Trial 10 pruned. \n",
      "[I 2025-05-09 11:49:48,150] Trial 11 pruned. \n",
      "[I 2025-05-09 11:50:13,642] Trial 12 finished with value: 0.630057803468208 and parameters: {'batch_size': 16, 'lr': 0.0004280777956003817, 'dropout_rate': 0.22225650256906226, 'gamma': 0.8668487096526902, 'step_size': 9}. Best is trial 0 with value: 0.6416184971098265.\n",
      "[I 2025-05-09 11:50:15,494] Trial 13 pruned. \n",
      "[I 2025-05-09 11:50:37,608] Trial 14 finished with value: 0.6416184971098265 and parameters: {'batch_size': 16, 'lr': 0.0007683152250980541, 'dropout_rate': 0.21252128297888057, 'gamma': 0.7710741023071337, 'step_size': 8}. Best is trial 0 with value: 0.6416184971098265.\n",
      "[I 2025-05-09 11:50:53,081] Trial 15 finished with value: 0.6358381502890174 and parameters: {'batch_size': 16, 'lr': 0.0008118412058773402, 'dropout_rate': 0.15285130870602917, 'gamma': 0.7557270060375002, 'step_size': 9}. Best is trial 0 with value: 0.6416184971098265.\n",
      "[I 2025-05-09 11:50:54,811] Trial 16 pruned. \n",
      "[I 2025-05-09 11:50:56,774] Trial 17 pruned. \n",
      "[I 2025-05-09 11:50:58,657] Trial 18 pruned. \n",
      "[I 2025-05-09 11:50:59,751] Trial 19 pruned. \n"
     ]
    },
    {
     "name": "stdout",
     "output_type": "stream",
     "text": [
      "Best CNN parameters: {'batch_size': 16, 'lr': 0.0001967279623158883, 'dropout_rate': 0.3906136197819599, 'gamma': 0.8825005449517268, 'step_size': 10}\n",
      "Best CNN validation accuracy: 0.6416\n"
     ]
    }
   ],
   "source": [
    "study_cnn = optuna.create_study(direction='maximize', pruner=optuna.pruners.MedianPruner())\n",
    "study_cnn.optimize(objective_cnn, n_trials=20)\n",
    "     \n",
    "best_params_cnn = study_cnn.best_params\n",
    "best_value_cnn = study_cnn.best_value\n",
    "        \n",
    "print(f\"Best CNN parameters: {best_params_cnn}\")\n",
    "print(f\"Best CNN validation accuracy: {best_value_cnn:.4f}\")"
   ]
  },
  {
   "cell_type": "code",
   "execution_count": 55,
   "id": "6f4c5e75",
   "metadata": {},
   "outputs": [
    {
     "name": "stderr",
     "output_type": "stream",
     "text": [
      "[I 2025-05-09 13:20:27,165] A new study created in memory with name: no-name-844de630-7004-4708-9c48-df646d34c9a9\n"
     ]
    },
    {
     "name": "stderr",
     "output_type": "stream",
     "text": [
      "[I 2025-05-09 13:23:16,894] Trial 0 finished with value: 0.3063583815028902 and parameters: {'batch_size': 16, 'lr': 0.00016743798813610125, 'dropout_rate': 0.46447803504989316, 'gamma': 0.5561336927668419, 'step_size': 3}. Best is trial 0 with value: 0.3063583815028902.\n",
      "[I 2025-05-09 13:26:07,042] Trial 1 finished with value: 0.3179190751445087 and parameters: {'batch_size': 32, 'lr': 0.006210290826806137, 'dropout_rate': 0.3962064301334963, 'gamma': 0.6946239674546281, 'step_size': 6}. Best is trial 1 with value: 0.3179190751445087.\n",
      "[I 2025-05-09 13:29:57,105] Trial 2 finished with value: 0.37572254335260113 and parameters: {'batch_size': 16, 'lr': 0.0015082516679554771, 'dropout_rate': 0.3387344320039753, 'gamma': 0.5826644079396117, 'step_size': 6}. Best is trial 2 with value: 0.37572254335260113.\n",
      "[I 2025-05-09 14:25:13,285] Trial 3 finished with value: 0.5028901734104047 and parameters: {'batch_size': 32, 'lr': 0.0005423749159850852, 'dropout_rate': 0.10972402274872205, 'gamma': 0.9421087553568287, 'step_size': 10}. Best is trial 3 with value: 0.5028901734104047.\n",
      "[I 2025-05-09 14:28:50,536] Trial 4 finished with value: 0.3699421965317919 and parameters: {'batch_size': 32, 'lr': 0.0040143641145261345, 'dropout_rate': 0.4550888978330417, 'gamma': 0.7834548423161475, 'step_size': 4}. Best is trial 3 with value: 0.5028901734104047.\n",
      "[I 2025-05-09 14:29:20,118] Trial 5 pruned. \n",
      "[I 2025-05-09 14:29:50,514] Trial 6 pruned. \n",
      "[I 2025-05-09 14:30:48,250] Trial 7 pruned. \n",
      "[I 2025-05-09 14:31:53,451] Trial 8 pruned. \n",
      "[I 2025-05-09 14:32:21,730] Trial 9 pruned. \n",
      "[I 2025-05-09 14:34:08,182] Trial 10 finished with value: 0.4046242774566474 and parameters: {'batch_size': 32, 'lr': 0.0018721990670042242, 'dropout_rate': 0.1253105446409492, 'gamma': 0.8116451354496241, 'step_size': 10}. Best is trial 3 with value: 0.5028901734104047.\n",
      "[I 2025-05-09 14:34:22,300] Trial 11 pruned. \n",
      "[I 2025-05-09 14:34:50,893] Trial 12 pruned. \n",
      "[I 2025-05-09 14:35:05,448] Trial 13 pruned. \n",
      "[I 2025-05-09 14:35:19,727] Trial 14 pruned. \n",
      "[I 2025-05-09 14:35:47,977] Trial 15 pruned. \n",
      "[I 2025-05-09 14:36:02,313] Trial 16 pruned. \n",
      "[I 2025-05-09 14:36:17,347] Trial 17 pruned. \n",
      "[I 2025-05-09 14:36:32,113] Trial 18 pruned. \n",
      "[I 2025-05-09 14:37:03,563] Trial 19 pruned. \n"
     ]
    },
    {
     "name": "stdout",
     "output_type": "stream",
     "text": [
      "Best Residual CNN parameters: {'batch_size': 32, 'lr': 0.0005423749159850852, 'dropout_rate': 0.10972402274872205, 'gamma': 0.9421087553568287, 'step_size': 10}\n",
      "Best Residual CNN validation accuracy: 0.5029\n"
     ]
    }
   ],
   "source": [
    "study_rcnn = optuna.create_study(direction='maximize', pruner=optuna.pruners.MedianPruner())\n",
    "study_rcnn.optimize(objective_rcnn, n_trials=20)\n",
    "     \n",
    "best_params_rcnn = study_rcnn.best_params\n",
    "best_value_rcnn = study_rcnn.best_value\n",
    "        \n",
    "print(f\"Best Residual CNN parameters: {best_params_rcnn}\")\n",
    "print(f\"Best Residual CNN validation accuracy: {best_value_rcnn:.4f}\")"
   ]
  },
  {
   "cell_type": "code",
   "execution_count": 41,
   "id": "c7f1c39a",
   "metadata": {},
   "outputs": [
    {
     "name": "stderr",
     "output_type": "stream",
     "text": [
      "[I 2025-05-09 12:05:47,997] A new study created in memory with name: no-name-93c91958-a4e8-4732-8f41-7eece4c443ee\n"
     ]
    },
    {
     "name": "stdout",
     "output_type": "stream",
     "text": [
      "\n",
      "Tuning LSTM model...\n"
     ]
    },
    {
     "name": "stderr",
     "output_type": "stream",
     "text": [
      "[I 2025-05-09 12:05:58,665] Trial 0 finished with value: 0.31213872832369943 and parameters: {'batch_size': 64, 'lr': 0.00017536482363694292, 'hidden_size': 64, 'num_layers': 2, 'dropout_rate': 0.2793969266387962, 'gamma': 0.7519723303952297, 'step_size': 9}. Best is trial 0 with value: 0.31213872832369943.\n",
      "[I 2025-05-09 12:06:44,838] Trial 1 finished with value: 0.5549132947976878 and parameters: {'batch_size': 64, 'lr': 0.0036734809321324444, 'hidden_size': 128, 'num_layers': 3, 'dropout_rate': 0.31750121130546166, 'gamma': 0.8184033434338648, 'step_size': 4}. Best is trial 1 with value: 0.5549132947976878.\n",
      "[I 2025-05-09 12:07:45,779] Trial 2 finished with value: 0.5549132947976878 and parameters: {'batch_size': 64, 'lr': 0.0006593469655041047, 'hidden_size': 256, 'num_layers': 2, 'dropout_rate': 0.2923945832977028, 'gamma': 0.5802755252556892, 'step_size': 10}. Best is trial 1 with value: 0.5549132947976878.\n",
      "[I 2025-05-09 12:08:07,468] Trial 3 finished with value: 0.6011560693641619 and parameters: {'batch_size': 32, 'lr': 0.006240483788863032, 'hidden_size': 128, 'num_layers': 1, 'dropout_rate': 0.4186220070335792, 'gamma': 0.7089431116499806, 'step_size': 8}. Best is trial 3 with value: 0.6011560693641619.\n",
      "[I 2025-05-09 12:09:22,677] Trial 4 finished with value: 0.5838150289017341 and parameters: {'batch_size': 16, 'lr': 0.002102830150554783, 'hidden_size': 128, 'num_layers': 3, 'dropout_rate': 0.1420831293763475, 'gamma': 0.8852807048514479, 'step_size': 8}. Best is trial 3 with value: 0.6011560693641619.\n",
      "[I 2025-05-09 12:09:24,753] Trial 5 pruned. \n",
      "[I 2025-05-09 12:09:38,364] Trial 6 pruned. \n",
      "[I 2025-05-09 12:09:41,267] Trial 7 pruned. \n",
      "[I 2025-05-09 12:09:44,511] Trial 8 pruned. \n",
      "[I 2025-05-09 12:09:46,467] Trial 9 pruned. \n",
      "[I 2025-05-09 12:09:47,921] Trial 10 pruned. \n",
      "[I 2025-05-09 12:10:46,187] Trial 11 pruned. \n",
      "[I 2025-05-09 12:10:59,074] Trial 12 pruned. \n",
      "[I 2025-05-09 12:11:18,191] Trial 13 pruned. \n",
      "[I 2025-05-09 12:11:35,267] Trial 14 pruned. \n",
      "[I 2025-05-09 12:12:03,142] Trial 15 finished with value: 0.6358381502890174 and parameters: {'batch_size': 16, 'lr': 0.0015988593067024631, 'hidden_size': 128, 'num_layers': 1, 'dropout_rate': 0.16218936716097276, 'gamma': 0.9258406881492669, 'step_size': 6}. Best is trial 15 with value: 0.6358381502890174.\n",
      "[I 2025-05-09 12:12:05,730] Trial 16 pruned. \n",
      "[I 2025-05-09 12:12:07,325] Trial 17 pruned. \n",
      "[I 2025-05-09 12:12:36,267] Trial 18 pruned. \n",
      "[I 2025-05-09 12:12:43,514] Trial 19 pruned. \n"
     ]
    },
    {
     "name": "stdout",
     "output_type": "stream",
     "text": [
      "Best LSTM parameters: {'batch_size': 16, 'lr': 0.0015988593067024631, 'hidden_size': 128, 'num_layers': 1, 'dropout_rate': 0.16218936716097276, 'gamma': 0.9258406881492669, 'step_size': 6}\n",
      "Best LSTM validation accuracy: 0.6358\n"
     ]
    }
   ],
   "source": [
    "print(\"\\nTuning LSTM model...\")\n",
    "study_lstm = optuna.create_study(direction='maximize', pruner=optuna.pruners.MedianPruner())\n",
    "study_lstm.optimize(objective_lstm, n_trials=20)\n",
    "        \n",
    "best_params_lstm = study_lstm.best_params\n",
    "best_value_lstm = study_lstm.best_value\n",
    "        \n",
    "print(f\"Best LSTM parameters: {best_params_lstm}\")\n",
    "print(f\"Best LSTM validation accuracy: {best_value_lstm:.4f}\")"
   ]
  },
  {
   "cell_type": "code",
   "execution_count": 49,
   "id": "198514c0",
   "metadata": {},
   "outputs": [
    {
     "name": "stderr",
     "output_type": "stream",
     "text": [
      "[I 2025-05-09 12:54:51,497] A new study created in memory with name: no-name-9ef7774a-e4fd-4ba5-9b17-1807377855b0\n"
     ]
    },
    {
     "name": "stdout",
     "output_type": "stream",
     "text": [
      "Epoch 1/15 - Train Loss: 1.5999, Train Acc: 0.2239 | Val Loss: 1.5861, Val Acc: 0.2254\n",
      "Epoch 2/15 - Train Loss: 1.6068, Train Acc: 0.2027 | Val Loss: 1.5832, Val Acc: 0.2254\n",
      "Epoch 3/15 - Train Loss: 1.6014, Train Acc: 0.1950 | Val Loss: 1.5857, Val Acc: 0.2197\n",
      "Epoch 4/15 - Train Loss: 1.5977, Train Acc: 0.2066 | Val Loss: 1.5862, Val Acc: 0.2197\n",
      "Epoch 5/15 - Train Loss: 1.5970, Train Acc: 0.2297 | Val Loss: 1.5853, Val Acc: 0.2254\n"
     ]
    },
    {
     "name": "stderr",
     "output_type": "stream",
     "text": [
      "[I 2025-05-09 12:55:21,388] Trial 0 finished with value: 0.2254335260115607 and parameters: {'batch_size': 64, 'lr': 0.0008037259956403304, 'dropout_rate': 0.4461985772856851, 'gamma': 0.7850413730111595, 'step_size': 13, 'd_model': 64, 'nhead': 2, 'num_encoder_layers': 4, 'dim_feedforward': 2048}. Best is trial 0 with value: 0.2254335260115607.\n"
     ]
    },
    {
     "name": "stdout",
     "output_type": "stream",
     "text": [
      "Epoch 6/15 - Train Loss: 1.6077, Train Acc: 0.2317 | Val Loss: 1.5879, Val Acc: 0.2254\n",
      "Early stopping at epoch 6 for trial 0.\n",
      "Epoch 1/15 - Train Loss: 1.6177, Train Acc: 0.1892 | Val Loss: 1.6093, Val Acc: 0.2254\n",
      "Epoch 2/15 - Train Loss: 1.6156, Train Acc: 0.2201 | Val Loss: 1.6031, Val Acc: 0.2254\n",
      "Epoch 3/15 - Train Loss: 1.6077, Train Acc: 0.2375 | Val Loss: 1.5986, Val Acc: 0.2254\n",
      "Epoch 4/15 - Train Loss: 1.5999, Train Acc: 0.2355 | Val Loss: 1.5949, Val Acc: 0.2254\n",
      "Epoch 5/15 - Train Loss: 1.6000, Train Acc: 0.2452 | Val Loss: 1.5916, Val Acc: 0.2254\n"
     ]
    },
    {
     "name": "stderr",
     "output_type": "stream",
     "text": [
      "[I 2025-05-09 12:55:36,600] Trial 1 finished with value: 0.2254335260115607 and parameters: {'batch_size': 64, 'lr': 1.1175849178025742e-05, 'dropout_rate': 0.4047935618494282, 'gamma': 0.9265884840317343, 'step_size': 6, 'd_model': 64, 'nhead': 4, 'num_encoder_layers': 2, 'dim_feedforward': 2048}. Best is trial 0 with value: 0.2254335260115607.\n"
     ]
    },
    {
     "name": "stdout",
     "output_type": "stream",
     "text": [
      "Epoch 6/15 - Train Loss: 1.5976, Train Acc: 0.2297 | Val Loss: 1.5887, Val Acc: 0.2254\n",
      "Early stopping at epoch 6 for trial 1.\n",
      "Epoch 1/15 - Train Loss: 1.6510, Train Acc: 0.2027 | Val Loss: 1.5938, Val Acc: 0.2197\n",
      "Epoch 2/15 - Train Loss: 1.6025, Train Acc: 0.2278 | Val Loss: 1.5987, Val Acc: 0.2254\n",
      "Epoch 3/15 - Train Loss: 1.5988, Train Acc: 0.1853 | Val Loss: 1.5940, Val Acc: 0.2197\n",
      "Epoch 4/15 - Train Loss: 1.5972, Train Acc: 0.2181 | Val Loss: 1.5834, Val Acc: 0.2197\n",
      "Epoch 5/15 - Train Loss: 1.5949, Train Acc: 0.2452 | Val Loss: 1.5827, Val Acc: 0.2254\n",
      "Epoch 6/15 - Train Loss: 1.5862, Train Acc: 0.2510 | Val Loss: 1.5813, Val Acc: 0.2254\n"
     ]
    },
    {
     "name": "stderr",
     "output_type": "stream",
     "text": [
      "[I 2025-05-09 12:56:53,830] Trial 2 finished with value: 0.2254335260115607 and parameters: {'batch_size': 16, 'lr': 0.0002561134563649086, 'dropout_rate': 0.4723177642187102, 'gamma': 0.7087390875747439, 'step_size': 13, 'd_model': 256, 'nhead': 8, 'num_encoder_layers': 5, 'dim_feedforward': 2048}. Best is trial 0 with value: 0.2254335260115607.\n"
     ]
    },
    {
     "name": "stdout",
     "output_type": "stream",
     "text": [
      "Epoch 7/15 - Train Loss: 1.5951, Train Acc: 0.2278 | Val Loss: 1.5814, Val Acc: 0.2254\n",
      "Early stopping at epoch 7 for trial 2.\n",
      "Epoch 1/15 - Train Loss: 1.6239, Train Acc: 0.2143 | Val Loss: 1.5859, Val Acc: 0.2197\n",
      "Epoch 2/15 - Train Loss: 1.5835, Train Acc: 0.2529 | Val Loss: 1.5550, Val Acc: 0.2775\n",
      "Epoch 3/15 - Train Loss: 1.5312, Train Acc: 0.2896 | Val Loss: 1.5103, Val Acc: 0.3121\n",
      "Epoch 4/15 - Train Loss: 1.4255, Train Acc: 0.3398 | Val Loss: 1.4081, Val Acc: 0.3873\n",
      "Epoch 5/15 - Train Loss: 1.3421, Train Acc: 0.4035 | Val Loss: 1.6693, Val Acc: 0.3121\n",
      "Epoch 6/15 - Train Loss: 1.3598, Train Acc: 0.4266 | Val Loss: 1.3390, Val Acc: 0.4277\n",
      "Epoch 7/15 - Train Loss: 1.1796, Train Acc: 0.5077 | Val Loss: 1.5294, Val Acc: 0.4162\n",
      "Epoch 8/15 - Train Loss: 1.0888, Train Acc: 0.5425 | Val Loss: 1.4118, Val Acc: 0.4220\n",
      "Epoch 9/15 - Train Loss: 1.0418, Train Acc: 0.5425 | Val Loss: 1.2302, Val Acc: 0.4855\n",
      "Epoch 10/15 - Train Loss: 0.8406, Train Acc: 0.6467 | Val Loss: 1.4932, Val Acc: 0.4509\n",
      "Epoch 11/15 - Train Loss: 0.7951, Train Acc: 0.6390 | Val Loss: 1.4059, Val Acc: 0.5260\n",
      "Epoch 12/15 - Train Loss: 0.6416, Train Acc: 0.7432 | Val Loss: 1.3725, Val Acc: 0.5434\n",
      "Epoch 13/15 - Train Loss: 0.4954, Train Acc: 0.7973 | Val Loss: 1.4981, Val Acc: 0.5376\n",
      "Epoch 14/15 - Train Loss: 0.3987, Train Acc: 0.8475 | Val Loss: 1.8163, Val Acc: 0.5838\n"
     ]
    },
    {
     "name": "stderr",
     "output_type": "stream",
     "text": [
      "[I 2025-05-09 12:57:20,638] Trial 3 finished with value: 0.5838150289017341 and parameters: {'batch_size': 32, 'lr': 0.0009437696214549022, 'dropout_rate': 0.29922834096233236, 'gamma': 0.8449225569214032, 'step_size': 10, 'd_model': 128, 'nhead': 2, 'num_encoder_layers': 2, 'dim_feedforward': 1024}. Best is trial 3 with value: 0.5838150289017341.\n"
     ]
    },
    {
     "name": "stdout",
     "output_type": "stream",
     "text": [
      "Epoch 15/15 - Train Loss: 0.5355, Train Acc: 0.7934 | Val Loss: 1.8118, Val Acc: 0.5145\n",
      "Epoch 1/15 - Train Loss: 1.6160, Train Acc: 0.2085 | Val Loss: 1.6072, Val Acc: 0.2023\n",
      "Epoch 2/15 - Train Loss: 1.6043, Train Acc: 0.2066 | Val Loss: 1.5972, Val Acc: 0.2023\n",
      "Epoch 3/15 - Train Loss: 1.6004, Train Acc: 0.2375 | Val Loss: 1.5901, Val Acc: 0.2832\n",
      "Epoch 4/15 - Train Loss: 1.5958, Train Acc: 0.2143 | Val Loss: 1.5852, Val Acc: 0.2948\n",
      "Epoch 5/15 - Train Loss: 1.5901, Train Acc: 0.2452 | Val Loss: 1.5810, Val Acc: 0.3121\n",
      "Epoch 6/15 - Train Loss: 1.5820, Train Acc: 0.2413 | Val Loss: 1.5779, Val Acc: 0.2370\n",
      "Epoch 7/15 - Train Loss: 1.5724, Train Acc: 0.2355 | Val Loss: 1.5747, Val Acc: 0.2254\n",
      "Epoch 8/15 - Train Loss: 1.5830, Train Acc: 0.2471 | Val Loss: 1.5714, Val Acc: 0.2717\n",
      "Epoch 9/15 - Train Loss: 1.5763, Train Acc: 0.2703 | Val Loss: 1.5689, Val Acc: 0.3179\n",
      "Epoch 10/15 - Train Loss: 1.5728, Train Acc: 0.2587 | Val Loss: 1.5666, Val Acc: 0.2890\n",
      "Epoch 11/15 - Train Loss: 1.5706, Train Acc: 0.2432 | Val Loss: 1.5645, Val Acc: 0.3295\n",
      "Epoch 12/15 - Train Loss: 1.5704, Train Acc: 0.2568 | Val Loss: 1.5628, Val Acc: 0.3584\n",
      "Epoch 13/15 - Train Loss: 1.5609, Train Acc: 0.2973 | Val Loss: 1.5607, Val Acc: 0.3526\n",
      "Epoch 14/15 - Train Loss: 1.5637, Train Acc: 0.2819 | Val Loss: 1.5590, Val Acc: 0.3295\n"
     ]
    },
    {
     "name": "stderr",
     "output_type": "stream",
     "text": [
      "[I 2025-05-09 12:57:41,528] Trial 4 finished with value: 0.3699421965317919 and parameters: {'batch_size': 64, 'lr': 9.298020781236625e-05, 'dropout_rate': 0.4635542388203598, 'gamma': 0.9142402720790773, 'step_size': 8, 'd_model': 64, 'nhead': 8, 'num_encoder_layers': 2, 'dim_feedforward': 256}. Best is trial 3 with value: 0.5838150289017341.\n"
     ]
    },
    {
     "name": "stdout",
     "output_type": "stream",
     "text": [
      "Epoch 15/15 - Train Loss: 1.5556, Train Acc: 0.3263 | Val Loss: 1.5575, Val Acc: 0.3699\n",
      "Epoch 1/15 - Train Loss: 1.6036, Train Acc: 0.2375 | Val Loss: 1.5759, Val Acc: 0.3064\n",
      "Epoch 2/15 - Train Loss: 1.5837, Train Acc: 0.2201 | Val Loss: 1.5687, Val Acc: 0.2717\n",
      "Epoch 3/15 - Train Loss: 1.5796, Train Acc: 0.2355 | Val Loss: 1.5658, Val Acc: 0.2312\n",
      "Epoch 4/15 - Train Loss: 1.5763, Train Acc: 0.2375 | Val Loss: 1.5613, Val Acc: 0.2312\n",
      "Epoch 5/15 - Train Loss: 1.5670, Train Acc: 0.2529 | Val Loss: 1.5537, Val Acc: 0.2312\n",
      "Epoch 6/15 - Train Loss: 1.5548, Train Acc: 0.2664 | Val Loss: 1.5447, Val Acc: 0.3237\n",
      "Epoch 7/15 - Train Loss: 1.5468, Train Acc: 0.3243 | Val Loss: 1.5317, Val Acc: 0.3757\n",
      "Epoch 8/15 - Train Loss: 1.5345, Train Acc: 0.3282 | Val Loss: 1.5222, Val Acc: 0.3410\n"
     ]
    },
    {
     "name": "stderr",
     "output_type": "stream",
     "text": [
      "[I 2025-05-09 12:57:59,046] Trial 5 pruned. \n"
     ]
    },
    {
     "name": "stdout",
     "output_type": "stream",
     "text": [
      "Epoch 9/15 - Train Loss: 1.5172, Train Acc: 0.3320 | Val Loss: 1.5151, Val Acc: 0.3237\n",
      "Trial 5 pruned at epoch 9.\n",
      "Epoch 1/15 - Train Loss: 1.6196, Train Acc: 0.2355 | Val Loss: 1.5751, Val Acc: 0.2312\n",
      "Epoch 2/15 - Train Loss: 1.5798, Train Acc: 0.2606 | Val Loss: 1.5339, Val Acc: 0.2948\n",
      "Epoch 3/15 - Train Loss: 1.4442, Train Acc: 0.3610 | Val Loss: 1.3508, Val Acc: 0.4393\n",
      "Epoch 4/15 - Train Loss: 1.2249, Train Acc: 0.4846 | Val Loss: 1.4957, Val Acc: 0.3353\n",
      "Epoch 5/15 - Train Loss: 1.1397, Train Acc: 0.5019 | Val Loss: 1.4754, Val Acc: 0.3988\n",
      "Epoch 6/15 - Train Loss: 1.0486, Train Acc: 0.5367 | Val Loss: 1.4544, Val Acc: 0.4393\n",
      "Epoch 7/15 - Train Loss: 0.8245, Train Acc: 0.6390 | Val Loss: 1.3101, Val Acc: 0.4913\n",
      "Epoch 8/15 - Train Loss: 0.7223, Train Acc: 0.6622 | Val Loss: 1.8183, Val Acc: 0.4220\n",
      "Epoch 9/15 - Train Loss: 0.7269, Train Acc: 0.6757 | Val Loss: 1.5640, Val Acc: 0.4509\n",
      "Epoch 10/15 - Train Loss: 0.6489, Train Acc: 0.7375 | Val Loss: 1.3139, Val Acc: 0.5260\n",
      "Epoch 11/15 - Train Loss: 0.4362, Train Acc: 0.8301 | Val Loss: 1.5094, Val Acc: 0.5318\n",
      "Epoch 12/15 - Train Loss: 0.4155, Train Acc: 0.8263 | Val Loss: 1.6086, Val Acc: 0.5318\n",
      "Epoch 13/15 - Train Loss: 0.3549, Train Acc: 0.8533 | Val Loss: 2.1234, Val Acc: 0.5376\n",
      "Epoch 14/15 - Train Loss: 0.3488, Train Acc: 0.8629 | Val Loss: 1.5246, Val Acc: 0.5723\n"
     ]
    },
    {
     "name": "stderr",
     "output_type": "stream",
     "text": [
      "[I 2025-05-09 12:58:42,330] Trial 6 finished with value: 0.5780346820809249 and parameters: {'batch_size': 16, 'lr': 0.0007540057085850046, 'dropout_rate': 0.23395831126177732, 'gamma': 0.8676215095545362, 'step_size': 8, 'd_model': 128, 'nhead': 4, 'num_encoder_layers': 4, 'dim_feedforward': 256}. Best is trial 3 with value: 0.5838150289017341.\n"
     ]
    },
    {
     "name": "stdout",
     "output_type": "stream",
     "text": [
      "Epoch 15/15 - Train Loss: 0.2044, Train Acc: 0.9286 | Val Loss: 1.8333, Val Acc: 0.5780\n",
      "Epoch 1/15 - Train Loss: 1.5919, Train Acc: 0.2568 | Val Loss: 1.5556, Val Acc: 0.2659\n",
      "Epoch 2/15 - Train Loss: 1.5553, Train Acc: 0.2741 | Val Loss: 1.5216, Val Acc: 0.3179\n",
      "Epoch 3/15 - Train Loss: 1.4963, Train Acc: 0.3552 | Val Loss: 1.5254, Val Acc: 0.2717\n",
      "Epoch 4/15 - Train Loss: 1.4345, Train Acc: 0.3803 | Val Loss: 1.4063, Val Acc: 0.4104\n",
      "Epoch 5/15 - Train Loss: 1.3536, Train Acc: 0.4170 | Val Loss: 1.3506, Val Acc: 0.3931\n",
      "Epoch 6/15 - Train Loss: 1.3019, Train Acc: 0.4691 | Val Loss: 1.4586, Val Acc: 0.3584\n",
      "Epoch 7/15 - Train Loss: 1.2039, Train Acc: 0.5000 | Val Loss: 1.2820, Val Acc: 0.4220\n",
      "Epoch 8/15 - Train Loss: 1.1621, Train Acc: 0.5019 | Val Loss: 1.2669, Val Acc: 0.4335\n"
     ]
    },
    {
     "name": "stderr",
     "output_type": "stream",
     "text": [
      "[I 2025-05-09 12:59:17,679] Trial 7 pruned. \n"
     ]
    },
    {
     "name": "stdout",
     "output_type": "stream",
     "text": [
      "Epoch 9/15 - Train Loss: 1.0723, Train Acc: 0.5598 | Val Loss: 1.2658, Val Acc: 0.4335\n",
      "Trial 7 pruned at epoch 9.\n",
      "Epoch 1/15 - Train Loss: 1.5983, Train Acc: 0.2066 | Val Loss: 1.5754, Val Acc: 0.2890\n",
      "Epoch 2/15 - Train Loss: 1.5818, Train Acc: 0.2510 | Val Loss: 1.5673, Val Acc: 0.2543\n",
      "Epoch 3/15 - Train Loss: 1.5730, Train Acc: 0.2625 | Val Loss: 1.5595, Val Acc: 0.3295\n",
      "Epoch 4/15 - Train Loss: 1.5583, Train Acc: 0.2915 | Val Loss: 1.5472, Val Acc: 0.3757\n",
      "Epoch 5/15 - Train Loss: 1.5392, Train Acc: 0.3224 | Val Loss: 1.5333, Val Acc: 0.3757\n",
      "Epoch 6/15 - Train Loss: 1.5282, Train Acc: 0.3398 | Val Loss: 1.5160, Val Acc: 0.3410\n",
      "Epoch 7/15 - Train Loss: 1.5069, Train Acc: 0.3475 | Val Loss: 1.4947, Val Acc: 0.3468\n"
     ]
    },
    {
     "name": "stderr",
     "output_type": "stream",
     "text": [
      "[I 2025-05-09 12:59:29,701] Trial 8 pruned. \n"
     ]
    },
    {
     "name": "stdout",
     "output_type": "stream",
     "text": [
      "Epoch 8/15 - Train Loss: 1.4781, Train Acc: 0.3649 | Val Loss: 1.4717, Val Acc: 0.3873\n",
      "Trial 8 pruned at epoch 8.\n"
     ]
    },
    {
     "name": "stderr",
     "output_type": "stream",
     "text": [
      "[I 2025-05-09 12:59:33,744] Trial 9 pruned. \n"
     ]
    },
    {
     "name": "stdout",
     "output_type": "stream",
     "text": [
      "Epoch 1/15 - Train Loss: 1.6058, Train Acc: 0.2452 | Val Loss: 1.6187, Val Acc: 0.2197\n",
      "Trial 9 pruned at epoch 1.\n",
      "Epoch 1/15 - Train Loss: 1.5957, Train Acc: 0.1873 | Val Loss: 1.5815, Val Acc: 0.2370\n",
      "Epoch 2/15 - Train Loss: 1.5807, Train Acc: 0.2645 | Val Loss: 1.5726, Val Acc: 0.3295\n",
      "Epoch 3/15 - Train Loss: 1.5727, Train Acc: 0.2587 | Val Loss: 1.5673, Val Acc: 0.2486\n",
      "Epoch 4/15 - Train Loss: 1.5647, Train Acc: 0.3069 | Val Loss: 1.5608, Val Acc: 0.3295\n",
      "Epoch 5/15 - Train Loss: 1.5544, Train Acc: 0.3842 | Val Loss: 1.5536, Val Acc: 0.3931\n",
      "Epoch 6/15 - Train Loss: 1.5466, Train Acc: 0.3726 | Val Loss: 1.5471, Val Acc: 0.3873\n",
      "Epoch 7/15 - Train Loss: 1.5375, Train Acc: 0.3784 | Val Loss: 1.5394, Val Acc: 0.4335\n",
      "Epoch 8/15 - Train Loss: 1.5256, Train Acc: 0.3900 | Val Loss: 1.5320, Val Acc: 0.3699\n"
     ]
    },
    {
     "name": "stderr",
     "output_type": "stream",
     "text": [
      "[I 2025-05-09 12:59:59,727] Trial 10 pruned. \n"
     ]
    },
    {
     "name": "stdout",
     "output_type": "stream",
     "text": [
      "Epoch 9/15 - Train Loss: 1.5162, Train Acc: 0.4151 | Val Loss: 1.5238, Val Acc: 0.3873\n",
      "Trial 10 pruned at epoch 9.\n",
      "Epoch 1/15 - Train Loss: 1.6450, Train Acc: 0.2027 | Val Loss: 1.5879, Val Acc: 0.2254\n",
      "Epoch 2/15 - Train Loss: 1.6049, Train Acc: 0.2066 | Val Loss: 1.5824, Val Acc: 0.2197\n"
     ]
    },
    {
     "name": "stderr",
     "output_type": "stream",
     "text": [
      "[I 2025-05-09 13:00:09,494] Trial 11 pruned. \n"
     ]
    },
    {
     "name": "stdout",
     "output_type": "stream",
     "text": [
      "Epoch 3/15 - Train Loss: 1.5618, Train Acc: 0.2761 | Val Loss: 1.6412, Val Acc: 0.2254\n",
      "Trial 11 pruned at epoch 3.\n"
     ]
    },
    {
     "name": "stderr",
     "output_type": "stream",
     "text": [
      "[I 2025-05-09 13:00:12,877] Trial 12 pruned. \n"
     ]
    },
    {
     "name": "stdout",
     "output_type": "stream",
     "text": [
      "Epoch 1/15 - Train Loss: 1.6091, Train Acc: 0.2394 | Val Loss: 1.5938, Val Acc: 0.2197\n",
      "Trial 12 pruned at epoch 1.\n"
     ]
    },
    {
     "name": "stderr",
     "output_type": "stream",
     "text": [
      "[I 2025-05-09 13:00:15,906] Trial 13 pruned. \n"
     ]
    },
    {
     "name": "stdout",
     "output_type": "stream",
     "text": [
      "Epoch 1/15 - Train Loss: 1.6173, Train Acc: 0.2085 | Val Loss: 1.5704, Val Acc: 0.2197\n",
      "Trial 13 pruned at epoch 1.\n",
      "Epoch 1/15 - Train Loss: 1.6371, Train Acc: 0.2297 | Val Loss: 1.5934, Val Acc: 0.2254\n",
      "Epoch 2/15 - Train Loss: 1.6183, Train Acc: 0.2124 | Val Loss: 1.5617, Val Acc: 0.3295\n",
      "Epoch 3/15 - Train Loss: 1.5479, Train Acc: 0.3050 | Val Loss: 1.5194, Val Acc: 0.3237\n",
      "Epoch 4/15 - Train Loss: 1.4542, Train Acc: 0.3340 | Val Loss: 1.5327, Val Acc: 0.2948\n",
      "Epoch 5/15 - Train Loss: 1.3932, Train Acc: 0.3610 | Val Loss: 1.4959, Val Acc: 0.3468\n",
      "Epoch 6/15 - Train Loss: 1.3185, Train Acc: 0.4189 | Val Loss: 1.3614, Val Acc: 0.4104\n",
      "Epoch 7/15 - Train Loss: 1.2151, Train Acc: 0.4266 | Val Loss: 1.4903, Val Acc: 0.3757\n"
     ]
    },
    {
     "name": "stderr",
     "output_type": "stream",
     "text": [
      "[I 2025-05-09 13:00:57,074] Trial 14 pruned. \n"
     ]
    },
    {
     "name": "stdout",
     "output_type": "stream",
     "text": [
      "Epoch 8/15 - Train Loss: 1.2218, Train Acc: 0.4942 | Val Loss: 1.5546, Val Acc: 0.3988\n",
      "Trial 14 pruned at epoch 8.\n",
      "Epoch 1/15 - Train Loss: 1.6029, Train Acc: 0.2124 | Val Loss: 1.5681, Val Acc: 0.2717\n",
      "Epoch 2/15 - Train Loss: 1.5719, Train Acc: 0.3069 | Val Loss: 1.5560, Val Acc: 0.2832\n",
      "Epoch 3/15 - Train Loss: 1.5481, Train Acc: 0.3127 | Val Loss: 1.5386, Val Acc: 0.3410\n",
      "Epoch 4/15 - Train Loss: 1.5312, Train Acc: 0.3282 | Val Loss: 1.5154, Val Acc: 0.3468\n",
      "Epoch 5/15 - Train Loss: 1.4921, Train Acc: 0.3610 | Val Loss: 1.4887, Val Acc: 0.3295\n",
      "Epoch 6/15 - Train Loss: 1.4577, Train Acc: 0.3668 | Val Loss: 1.4551, Val Acc: 0.3699\n",
      "Epoch 7/15 - Train Loss: 1.4087, Train Acc: 0.4286 | Val Loss: 1.4152, Val Acc: 0.4046\n"
     ]
    },
    {
     "name": "stderr",
     "output_type": "stream",
     "text": [
      "[I 2025-05-09 13:01:32,252] Trial 15 pruned. \n"
     ]
    },
    {
     "name": "stdout",
     "output_type": "stream",
     "text": [
      "Epoch 8/15 - Train Loss: 1.3661, Train Acc: 0.4402 | Val Loss: 1.4304, Val Acc: 0.3699\n",
      "Trial 15 pruned at epoch 8.\n",
      "Epoch 1/15 - Train Loss: 1.6245, Train Acc: 0.1892 | Val Loss: 1.5645, Val Acc: 0.2717\n",
      "Epoch 2/15 - Train Loss: 1.5637, Train Acc: 0.2587 | Val Loss: 1.5230, Val Acc: 0.2832\n",
      "Epoch 3/15 - Train Loss: 1.4736, Train Acc: 0.3378 | Val Loss: 1.4242, Val Acc: 0.4104\n",
      "Epoch 4/15 - Train Loss: 1.3087, Train Acc: 0.4691 | Val Loss: 1.3030, Val Acc: 0.4104\n",
      "Epoch 5/15 - Train Loss: 1.2557, Train Acc: 0.4653 | Val Loss: 1.3859, Val Acc: 0.4046\n",
      "Epoch 6/15 - Train Loss: 1.1676, Train Acc: 0.4942 | Val Loss: 1.3043, Val Acc: 0.4046\n",
      "Epoch 7/15 - Train Loss: 0.9484, Train Acc: 0.6236 | Val Loss: 1.2228, Val Acc: 0.5029\n",
      "Epoch 8/15 - Train Loss: 0.7655, Train Acc: 0.6931 | Val Loss: 1.2715, Val Acc: 0.5607\n",
      "Epoch 9/15 - Train Loss: 0.5906, Train Acc: 0.7780 | Val Loss: 1.3867, Val Acc: 0.5780\n",
      "Epoch 10/15 - Train Loss: 0.4253, Train Acc: 0.8494 | Val Loss: 1.5034, Val Acc: 0.5087\n",
      "Epoch 11/15 - Train Loss: 0.4217, Train Acc: 0.8417 | Val Loss: 2.2315, Val Acc: 0.4624\n",
      "Epoch 12/15 - Train Loss: 0.6923, Train Acc: 0.7722 | Val Loss: 1.3274, Val Acc: 0.5896\n",
      "Epoch 13/15 - Train Loss: 0.2497, Train Acc: 0.9286 | Val Loss: 1.4196, Val Acc: 0.6301\n",
      "Epoch 14/15 - Train Loss: 0.1961, Train Acc: 0.9421 | Val Loss: 1.3967, Val Acc: 0.6243\n"
     ]
    },
    {
     "name": "stderr",
     "output_type": "stream",
     "text": [
      "[I 2025-05-09 13:02:36,695] Trial 16 finished with value: 0.630057803468208 and parameters: {'batch_size': 16, 'lr': 0.0002573623327473515, 'dropout_rate': 0.3015664111677139, 'gamma': 0.969769753507186, 'step_size': 12, 'd_model': 256, 'nhead': 4, 'num_encoder_layers': 3, 'dim_feedforward': 1024}. Best is trial 16 with value: 0.630057803468208.\n"
     ]
    },
    {
     "name": "stdout",
     "output_type": "stream",
     "text": [
      "Epoch 15/15 - Train Loss: 0.1750, Train Acc: 0.9440 | Val Loss: 1.7048, Val Acc: 0.6185\n"
     ]
    },
    {
     "name": "stderr",
     "output_type": "stream",
     "text": [
      "[I 2025-05-09 13:02:40,606] Trial 17 pruned. \n"
     ]
    },
    {
     "name": "stdout",
     "output_type": "stream",
     "text": [
      "Epoch 1/15 - Train Loss: 1.5945, Train Acc: 0.2471 | Val Loss: 1.5817, Val Acc: 0.2197\n",
      "Trial 17 pruned at epoch 1.\n",
      "Epoch 1/15 - Train Loss: 1.5885, Train Acc: 0.2490 | Val Loss: 1.5622, Val Acc: 0.2312\n",
      "Epoch 2/15 - Train Loss: 1.5623, Train Acc: 0.2954 | Val Loss: 1.5363, Val Acc: 0.3064\n",
      "Epoch 3/15 - Train Loss: 1.4665, Train Acc: 0.3649 | Val Loss: 1.4292, Val Acc: 0.3699\n",
      "Epoch 4/15 - Train Loss: 1.3418, Train Acc: 0.4015 | Val Loss: 1.3316, Val Acc: 0.4277\n",
      "Epoch 5/15 - Train Loss: 1.2679, Train Acc: 0.4382 | Val Loss: 1.3633, Val Acc: 0.4451\n",
      "Epoch 6/15 - Train Loss: 1.1275, Train Acc: 0.5386 | Val Loss: 1.4049, Val Acc: 0.3988\n",
      "Epoch 7/15 - Train Loss: 0.9969, Train Acc: 0.5888 | Val Loss: 1.2295, Val Acc: 0.5318\n",
      "Epoch 8/15 - Train Loss: 0.8738, Train Acc: 0.6544 | Val Loss: 1.3453, Val Acc: 0.4855\n",
      "Epoch 9/15 - Train Loss: 0.7222, Train Acc: 0.7297 | Val Loss: 1.1855, Val Acc: 0.5376\n",
      "Epoch 10/15 - Train Loss: 0.5330, Train Acc: 0.7992 | Val Loss: 1.2303, Val Acc: 0.5780\n",
      "Epoch 11/15 - Train Loss: 0.3574, Train Acc: 0.8958 | Val Loss: 1.2040, Val Acc: 0.5780\n",
      "Epoch 12/15 - Train Loss: 0.2723, Train Acc: 0.8996 | Val Loss: 1.5538, Val Acc: 0.5780\n",
      "Epoch 13/15 - Train Loss: 0.1590, Train Acc: 0.9479 | Val Loss: 1.6141, Val Acc: 0.5780\n",
      "Epoch 14/15 - Train Loss: 0.1107, Train Acc: 0.9807 | Val Loss: 1.4543, Val Acc: 0.6358\n"
     ]
    },
    {
     "name": "stderr",
     "output_type": "stream",
     "text": [
      "[I 2025-05-09 13:03:23,956] Trial 18 finished with value: 0.6358381502890174 and parameters: {'batch_size': 16, 'lr': 0.0001915902878499993, 'dropout_rate': 0.29237829199959525, 'gamma': 0.9713242733839934, 'step_size': 15, 'd_model': 256, 'nhead': 4, 'num_encoder_layers': 2, 'dim_feedforward': 1024}. Best is trial 18 with value: 0.6358381502890174.\n"
     ]
    },
    {
     "name": "stdout",
     "output_type": "stream",
     "text": [
      "Epoch 15/15 - Train Loss: 0.0770, Train Acc: 0.9807 | Val Loss: 1.7871, Val Acc: 0.6358\n",
      "Epoch 1/15 - Train Loss: 1.5993, Train Acc: 0.2297 | Val Loss: 1.5417, Val Acc: 0.3757\n",
      "Epoch 2/15 - Train Loss: 1.5396, Train Acc: 0.2973 | Val Loss: 1.4917, Val Acc: 0.2948\n",
      "Epoch 3/15 - Train Loss: 1.4446, Train Acc: 0.3629 | Val Loss: 1.4138, Val Acc: 0.3988\n",
      "Epoch 4/15 - Train Loss: 1.2715, Train Acc: 0.4633 | Val Loss: 1.5554, Val Acc: 0.3179\n",
      "Epoch 5/15 - Train Loss: 1.1503, Train Acc: 0.5251 | Val Loss: 1.2632, Val Acc: 0.4451\n",
      "Epoch 6/15 - Train Loss: 1.0768, Train Acc: 0.5463 | Val Loss: 1.4984, Val Acc: 0.4509\n",
      "Epoch 7/15 - Train Loss: 0.9051, Train Acc: 0.6486 | Val Loss: 1.3690, Val Acc: 0.4624\n",
      "Epoch 8/15 - Train Loss: 0.7677, Train Acc: 0.6911 | Val Loss: 1.2196, Val Acc: 0.5780\n",
      "Epoch 9/15 - Train Loss: 0.6595, Train Acc: 0.7452 | Val Loss: 1.3299, Val Acc: 0.5549\n",
      "Epoch 10/15 - Train Loss: 0.6584, Train Acc: 0.7568 | Val Loss: 1.3288, Val Acc: 0.5318\n",
      "Epoch 11/15 - Train Loss: 0.4561, Train Acc: 0.8378 | Val Loss: 1.2234, Val Acc: 0.6127\n",
      "Epoch 12/15 - Train Loss: 0.2743, Train Acc: 0.8977 | Val Loss: 1.2918, Val Acc: 0.5896\n",
      "Epoch 13/15 - Train Loss: 0.1928, Train Acc: 0.9382 | Val Loss: 1.3093, Val Acc: 0.6301\n",
      "Epoch 14/15 - Train Loss: 0.1243, Train Acc: 0.9633 | Val Loss: 1.7854, Val Acc: 0.5665\n"
     ]
    },
    {
     "name": "stderr",
     "output_type": "stream",
     "text": [
      "[I 2025-05-09 13:04:28,492] Trial 19 finished with value: 0.630057803468208 and parameters: {'batch_size': 16, 'lr': 0.00019775714849700512, 'dropout_rate': 0.3103624009447146, 'gamma': 0.9765054951777933, 'step_size': 15, 'd_model': 256, 'nhead': 4, 'num_encoder_layers': 3, 'dim_feedforward': 1024}. Best is trial 18 with value: 0.6358381502890174.\n"
     ]
    },
    {
     "name": "stdout",
     "output_type": "stream",
     "text": [
      "Epoch 15/15 - Train Loss: 0.1269, Train Acc: 0.9537 | Val Loss: 1.6374, Val Acc: 0.6012\n",
      "Best CNN parameters: {'batch_size': 16, 'lr': 0.0001915902878499993, 'dropout_rate': 0.29237829199959525, 'gamma': 0.9713242733839934, 'step_size': 15, 'd_model': 256, 'nhead': 4, 'num_encoder_layers': 2, 'dim_feedforward': 1024}\n",
      "Best CNN validation accuracy: 0.6358\n"
     ]
    }
   ],
   "source": [
    "study_transformer = optuna.create_study(direction='maximize', pruner=optuna.pruners.MedianPruner())\n",
    "study_transformer.optimize(objective_transformer, n_trials=20)\n",
    "     \n",
    "best_params_transformer = study_transformer.best_params\n",
    "best_value_transformer = study_transformer.best_value\n",
    "        \n",
    "print(f\"Best CNN parameters: {best_params_transformer}\")\n",
    "print(f\"Best CNN validation accuracy: {best_value_transformer:.4f}\")"
   ]
  },
  {
   "cell_type": "markdown",
   "id": "d85f3aa5",
   "metadata": {},
   "source": [
    "---\n",
    "\n",
    "## 9. Evaluation"
   ]
  },
  {
   "cell_type": "code",
   "execution_count": 23,
   "id": "1f41e148",
   "metadata": {},
   "outputs": [
    {
     "name": "stdout",
     "output_type": "stream",
     "text": [
      "              precision    recall  f1-score   support\n",
      "\n",
      "       angry       0.68      0.79      0.73        38\n",
      "     excited       0.76      0.58      0.66        38\n",
      "       happy       0.56      0.59      0.57        39\n",
      "     neutral       0.78      0.74      0.76        19\n",
      "         sad       0.68      0.72      0.70        39\n",
      "\n",
      "    accuracy                           0.68       173\n",
      "   macro avg       0.69      0.68      0.68       173\n",
      "weighted avg       0.68      0.68      0.68       173\n",
      "\n"
     ]
    },
    {
     "data": {
      "image/png": "[encoded data removed]",
      "text/plain": [
       "<Figure size 640x480 with 2 Axes>"
      ]
     },
     "metadata": {},
     "output_type": "display_data"
    }
   ],
   "source": [
    "model.eval()\n",
    "y_true, y_pred = [], []\n",
    "with torch.no_grad():\n",
    "    for Xb, yb in test_loader:\n",
    "        Xb = Xb.to(device)\n",
    "        outputs = model(Xb)\n",
    "        _, preds = torch.max(outputs, 1)\n",
    "        y_true.extend(yb.numpy())\n",
    "        y_pred.extend(preds.cpu().numpy())\n",
    "\n",
    "print(classification_report(y_true, y_pred, target_names=le.classes_))\n",
    "sns.heatmap(confusion_matrix(y_true, y_pred), annot=True, xticklabels=le.classes_, yticklabels=le.classes_)\n",
    "plt.title(\"Confusion Matrix\")\n",
    "plt.show()"
   ]
  },
  {
   "cell_type": "markdown",
   "id": "86db81ba",
   "metadata": {},
   "source": [
    "## 10. Deployment Considerations\n",
    "# Save best model"
   ]
  },
  {
   "cell_type": "code",
   "execution_count": 15,
   "id": "7699ee78",
   "metadata": {},
   "outputs": [
    {
     "name": "stdout",
     "output_type": "stream",
     "text": [
      "✅ Model saved at best_model/emotion_model.pth\n"
     ]
    }
   ],
   "source": [
    "\n",
    "model_dir = \"best_model\"\n",
    "os.makedirs(model_dir, exist_ok=True)\n",
    "model_path = os.path.join(model_dir, \"emotion_model.pth\")\n",
    "torch.save(model.state_dict(), model_path)\n",
    "print(f\"✅ Model saved at {model_path}\")\n"
   ]
  },
  {
   "cell_type": "markdown",
   "id": "7a1ae903",
   "metadata": {},
   "source": [
    "---\n",
    "## Testing \n"
   ]
  },
  {
   "cell_type": "code",
   "execution_count": null,
   "id": "e3f66e75",
   "metadata": {},
   "outputs": [
    {
     "name": "stdout",
     "output_type": "stream",
     "text": [
      "🎙️ Recording...\n",
      "✅ Saved to data/live_input.wav\n"
     ]
    }
   ],
   "source": [
    "# import sounddevice as sd\n",
    "# from scipy.io.wavfile import write\n",
    "\n",
    "# fs = 16000  # Sample rate\n",
    "# duration = 3  # Seconds\n",
    "# print(\"🎙️ Recording...\")\n",
    "# audio = sd.rec(int(duration * fs), samplerate=fs, channels=1)\n",
    "# sd.wait()\n",
    "# write(\"data/live_input.wav\", fs, audio)\n",
    "# print(\"✅ Saved to data/live_input.wav\")\n"
   ]
  },
  {
   "cell_type": "markdown",
   "id": "74c33f71",
   "metadata": {},
   "source": [
    "2. 🧪 Preprocess the Recorded Audio\n",
    "Use the same feature extraction logic you used during training. For example:"
   ]
  },
  {
   "cell_type": "code",
   "execution_count": 17,
   "id": "cd6c008f",
   "metadata": {},
   "outputs": [],
   "source": [
    "import librosa\n",
    "import numpy as np\n",
    "import torch\n",
    "\n",
    "def preprocess_live_audio(path, device, target_shape=(94, 92)):\n",
    "    y, sr = librosa.load(path, sr=16000)\n",
    "    y = librosa.util.fix_length(y, size=sr * 3)\n",
    "\n",
    "    mfcc = librosa.feature.mfcc(y=y, sr=sr, n_mfcc=target_shape[0])\n",
    "\n",
    "    # Pad or trim time axis to match target_shape[1]\n",
    "    curr_frames = mfcc.shape[1]\n",
    "    target_frames = target_shape[1]\n",
    "\n",
    "    if curr_frames < target_frames:\n",
    "        pad_width = target_frames - curr_frames\n",
    "        mfcc = np.pad(mfcc, ((0, 0), (0, pad_width)), mode='constant')\n",
    "    elif curr_frames > target_frames:\n",
    "        mfcc = mfcc[:, :target_frames]\n",
    "\n",
    "    mfcc_tensor = torch.tensor(mfcc).unsqueeze(0).unsqueeze(0)  # shape: [1, 1, 94, 92]\n",
    "    print(f\"MFCC shape: {mfcc_tensor.shape}\")\n",
    "    return mfcc_tensor.to(device).float()\n",
    "\n",
    "\n",
    "\n",
    "\n"
   ]
  },
  {
   "cell_type": "markdown",
   "id": "b06cf40c",
   "metadata": {},
   "source": [
    "3. 🔍 Load Model and Predict\n"
   ]
  },
  {
   "cell_type": "code",
   "execution_count": 18,
   "id": "a2c6f7c1",
   "metadata": {},
   "outputs": [
    {
     "name": "stdout",
     "output_type": "stream",
     "text": [
      "MFCC shape: torch.Size([1, 1, 94, 92])\n",
      "🧠 Predicted Emotion: excited\n"
     ]
    }
   ],
   "source": [
    "model = CNNEmotion(num_classes=5)  # or 4 if not including \"excited\"\n",
    "model.load_state_dict(torch.load(\"best_model/emotion_model.pth\"))\n",
    "model.eval().to(device)\n",
    "\n",
    "input_tensor = preprocess_live_audio(\"data/live_input.wav\", device)\n",
    "with torch.no_grad():\n",
    "    output = model(input_tensor)\n",
    "    pred_idx = torch.argmax(output, dim=1).item()\n",
    "\n",
    "emotions = ['neutral', 'happy', 'sad', 'angry', 'excited']\n",
    "print(f\"🧠 Predicted Emotion: {emotions[pred_idx]}\")\n",
    "\n"
   ]
  },
  {
   "cell_type": "code",
   "execution_count": null,
   "id": "8e8d9f30",
   "metadata": {},
   "outputs": [],
   "source": []
  }
 ],
 "metadata": {
  "kernelspec": {
   "display_name": "dl",
   "language": "python",
   "name": "python3"
  },
  "language_info": {
   "codemirror_mode": {
    "name": "ipython",
    "version": 3
   },
   "file_extension": ".py",
   "mimetype": "text/x-python",
   "name": "python",
   "nbconvert_exporter": "python",
   "pygments_lexer": "ipython3",
   "version": "3.10.16"
  }
 },
 "nbformat": 4,
 "nbformat_minor": 5
}
